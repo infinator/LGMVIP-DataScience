{
 "cells": [
  {
   "cell_type": "markdown",
   "id": "31451c1f",
   "metadata": {
    "papermill": {
     "duration": 0.005889,
     "end_time": "2022-06-11T19:10:28.813630",
     "exception": false,
     "start_time": "2022-06-11T19:10:28.807741",
     "status": "completed"
    },
    "tags": []
   },
   "source": [
    "<center><img src = \"https://qph.cf2.quoracdn.net/main-qimg-60ee8168e92db44989ea04495fcb171b.webp\"></center>"
   ]
  },
  {
   "cell_type": "markdown",
   "id": "08cae3ba",
   "metadata": {
    "papermill": {
     "duration": 0.004497,
     "end_time": "2022-06-11T19:10:28.822987",
     "exception": false,
     "start_time": "2022-06-11T19:10:28.818490",
     "status": "completed"
    },
    "tags": []
   },
   "source": [
    "<center><h1>📝 Next Word Prediction 📝</h1></center>"
   ]
  },
  {
   "cell_type": "markdown",
   "id": "15f92f99",
   "metadata": {
    "papermill": {
     "duration": 0.004482,
     "end_time": "2022-06-11T19:10:28.832197",
     "exception": false,
     "start_time": "2022-06-11T19:10:28.827715",
     "status": "completed"
    },
    "tags": []
   },
   "source": [
    "# Loading Libraries"
   ]
  },
  {
   "cell_type": "code",
   "execution_count": 1,
   "id": "2d0c2f6e",
   "metadata": {
    "execution": {
     "iopub.execute_input": "2022-06-11T19:10:28.843647Z",
     "iopub.status.busy": "2022-06-11T19:10:28.843115Z",
     "iopub.status.idle": "2022-06-11T19:10:34.010169Z",
     "shell.execute_reply": "2022-06-11T19:10:34.009304Z"
    },
    "papermill": {
     "duration": 5.175515,
     "end_time": "2022-06-11T19:10:34.012372",
     "exception": false,
     "start_time": "2022-06-11T19:10:28.836857",
     "status": "completed"
    },
    "tags": []
   },
   "outputs": [],
   "source": [
    "import numpy as np\n",
    "import os\n",
    "\n",
    "import matplotlib.pyplot as plt\n",
    "\n",
    "# pickle\n",
    "import pickle\n",
    "\n",
    "# tf and keras\n",
    "import tensorflow as tf\n",
    "from tensorflow import keras\n",
    "from tensorflow.keras.preprocessing.text import Tokenizer\n",
    "from tensorflow.keras.layers import Embedding, LSTM, Dense\n",
    "from tensorflow.keras.models import Sequential, load_model\n",
    "from tensorflow.keras.callbacks import ModelCheckpoint\n",
    "from tensorflow.keras.utils import to_categorical\n",
    "from tensorflow.keras.optimizers import Adam\n",
    "from keras.utils.vis_utils import plot_model"
   ]
  },
  {
   "cell_type": "markdown",
   "id": "6f773159",
   "metadata": {
    "papermill": {
     "duration": 0.004981,
     "end_time": "2022-06-11T19:10:34.022475",
     "exception": false,
     "start_time": "2022-06-11T19:10:34.017494",
     "status": "completed"
    },
    "tags": []
   },
   "source": [
    "# Reading the data"
   ]
  },
  {
   "cell_type": "code",
   "execution_count": 2,
   "id": "f6ebbede",
   "metadata": {
    "execution": {
     "iopub.execute_input": "2022-06-11T19:10:34.033816Z",
     "iopub.status.busy": "2022-06-11T19:10:34.033228Z",
     "iopub.status.idle": "2022-06-11T19:10:42.627120Z",
     "shell.execute_reply": "2022-06-11T19:10:42.626339Z"
    },
    "papermill": {
     "duration": 8.602108,
     "end_time": "2022-06-11T19:10:42.629532",
     "exception": false,
     "start_time": "2022-06-11T19:10:34.027424",
     "status": "completed"
    },
    "tags": []
   },
   "outputs": [
    {
     "data": {
      "text/plain": [
       "\"Project Gutenberg's The Adventures of Sherlock Holmes, by Arthur Conan Doyle This eBook is for the use of anyone anywhere at no cost and with almost no restrictions whatsoever. You may copy it, give it away or re-use it under the terms of the Project Gutenberg License included with this eBook or online at www.gutenberg.net Title: The Adventures of Sherlock Holmes Author: Arthur Conan Doyle Release Date: November 29, 2002 [EBook #1661] Last Updated: May 20, 2019 Language: English Character set en\""
      ]
     },
     "execution_count": 2,
     "metadata": {},
     "output_type": "execute_result"
    }
   ],
   "source": [
    "# Get the text file from here :\n",
    "# https://drive.google.com/file/d/1GeUzNVqiixXHnTl8oNiQ2W3CynX_lsu2/view\n",
    "\n",
    "file = open(\"../input/maskiiiii/1661-0.txt\", \"r\", encoding = \"utf8\")\n",
    "lines = []\n",
    "\n",
    "for i in file:\n",
    "    lines.append(i)\n",
    "    \n",
    "data = \"\"\n",
    "\n",
    "for i in lines:\n",
    "    data = ' '. join(lines)\n",
    "    \n",
    "data = data.replace('\\n', '').replace('\\r', '').replace('\\ufeff', '').replace('“', '').replace(\"”\", '')\n",
    "\n",
    "data = data.split()\n",
    "data = ' '.join(data)\n",
    "data[:500]"
   ]
  },
  {
   "cell_type": "code",
   "execution_count": 3,
   "id": "fde33f24",
   "metadata": {
    "execution": {
     "iopub.execute_input": "2022-06-11T19:10:42.641605Z",
     "iopub.status.busy": "2022-06-11T19:10:42.640983Z",
     "iopub.status.idle": "2022-06-11T19:10:42.646813Z",
     "shell.execute_reply": "2022-06-11T19:10:42.646106Z"
    },
    "papermill": {
     "duration": 0.013568,
     "end_time": "2022-06-11T19:10:42.648391",
     "exception": false,
     "start_time": "2022-06-11T19:10:42.634823",
     "status": "completed"
    },
    "tags": []
   },
   "outputs": [
    {
     "data": {
      "text/plain": [
       "573660"
      ]
     },
     "execution_count": 3,
     "metadata": {},
     "output_type": "execute_result"
    }
   ],
   "source": [
    "len(data)"
   ]
  },
  {
   "cell_type": "markdown",
   "id": "7e18acea",
   "metadata": {
    "papermill": {
     "duration": 0.004957,
     "end_time": "2022-06-11T19:10:42.658561",
     "exception": false,
     "start_time": "2022-06-11T19:10:42.653604",
     "status": "completed"
    },
    "tags": []
   },
   "source": [
    "# Preprocessing"
   ]
  },
  {
   "cell_type": "code",
   "execution_count": 4,
   "id": "e3d7a65e",
   "metadata": {
    "execution": {
     "iopub.execute_input": "2022-06-11T19:10:42.670435Z",
     "iopub.status.busy": "2022-06-11T19:10:42.669776Z",
     "iopub.status.idle": "2022-06-11T19:10:42.894026Z",
     "shell.execute_reply": "2022-06-11T19:10:42.893088Z"
    },
    "papermill": {
     "duration": 0.232467,
     "end_time": "2022-06-11T19:10:42.896177",
     "exception": false,
     "start_time": "2022-06-11T19:10:42.663710",
     "status": "completed"
    },
    "tags": []
   },
   "outputs": [
    {
     "data": {
      "text/plain": [
       "[142, 4680, 1, 986, 5, 125, 33, 46, 556, 2164]"
      ]
     },
     "execution_count": 4,
     "metadata": {},
     "output_type": "execute_result"
    }
   ],
   "source": [
    "tokenizer = Tokenizer()\n",
    "tokenizer.fit_on_texts([data])\n",
    "\n",
    "pickle.dump(tokenizer, open('tokenizer1.pkl', 'wb'))\n",
    "\n",
    "sequence_data = tokenizer.texts_to_sequences([data])[0]\n",
    "sequence_data[:10]"
   ]
  },
  {
   "cell_type": "code",
   "execution_count": 5,
   "id": "0a7b8ea7",
   "metadata": {
    "execution": {
     "iopub.execute_input": "2022-06-11T19:10:42.908911Z",
     "iopub.status.busy": "2022-06-11T19:10:42.907980Z",
     "iopub.status.idle": "2022-06-11T19:10:42.913667Z",
     "shell.execute_reply": "2022-06-11T19:10:42.912824Z"
    },
    "papermill": {
     "duration": 0.013869,
     "end_time": "2022-06-11T19:10:42.915620",
     "exception": false,
     "start_time": "2022-06-11T19:10:42.901751",
     "status": "completed"
    },
    "tags": []
   },
   "outputs": [
    {
     "data": {
      "text/plain": [
       "108958"
      ]
     },
     "execution_count": 5,
     "metadata": {},
     "output_type": "execute_result"
    }
   ],
   "source": [
    "len(sequence_data)"
   ]
  },
  {
   "cell_type": "code",
   "execution_count": 6,
   "id": "d3479386",
   "metadata": {
    "execution": {
     "iopub.execute_input": "2022-06-11T19:10:42.928749Z",
     "iopub.status.busy": "2022-06-11T19:10:42.928010Z",
     "iopub.status.idle": "2022-06-11T19:10:42.933600Z",
     "shell.execute_reply": "2022-06-11T19:10:42.932757Z"
    },
    "papermill": {
     "duration": 0.014775,
     "end_time": "2022-06-11T19:10:42.936133",
     "exception": false,
     "start_time": "2022-06-11T19:10:42.921358",
     "status": "completed"
    },
    "tags": []
   },
   "outputs": [
    {
     "data": {
      "text/plain": [
       "8624"
      ]
     },
     "execution_count": 6,
     "metadata": {},
     "output_type": "execute_result"
    }
   ],
   "source": [
    "vocab_size = len(tokenizer.word_index) + 1\n",
    "vocab_size"
   ]
  },
  {
   "cell_type": "code",
   "execution_count": 7,
   "id": "dbe84857",
   "metadata": {
    "execution": {
     "iopub.execute_input": "2022-06-11T19:10:42.948465Z",
     "iopub.status.busy": "2022-06-11T19:10:42.948168Z",
     "iopub.status.idle": "2022-06-11T19:10:43.275357Z",
     "shell.execute_reply": "2022-06-11T19:10:43.274383Z"
    },
    "papermill": {
     "duration": 0.3355,
     "end_time": "2022-06-11T19:10:43.277265",
     "exception": false,
     "start_time": "2022-06-11T19:10:42.941765",
     "status": "completed"
    },
    "tags": []
   },
   "outputs": [
    {
     "name": "stdout",
     "output_type": "stream",
     "text": [
      "The length of sequences : 108955\n"
     ]
    },
    {
     "data": {
      "text/plain": [
       "array([[ 142, 4680,    1,  986],\n",
       "       [4680,    1,  986,    5],\n",
       "       [   1,  986,    5,  125],\n",
       "       [ 986,    5,  125,   33],\n",
       "       [   5,  125,   33,   46],\n",
       "       [ 125,   33,   46,  556],\n",
       "       [  33,   46,  556, 2164],\n",
       "       [  46,  556, 2164, 2165],\n",
       "       [ 556, 2164, 2165,   27],\n",
       "       [2164, 2165,   27,  987]])"
      ]
     },
     "execution_count": 7,
     "metadata": {},
     "output_type": "execute_result"
    }
   ],
   "source": [
    "sequences = []\n",
    "for i in range(3, len(sequence_data)):\n",
    "    words = sequence_data[i-3:i+1]\n",
    "    sequences.append(words)\n",
    "    \n",
    "print(\"The length of sequences :\", len(sequences))\n",
    "sequences = np.array(sequences)\n",
    "sequences[:10]"
   ]
  },
  {
   "cell_type": "markdown",
   "id": "71687746",
   "metadata": {
    "papermill": {
     "duration": 0.005968,
     "end_time": "2022-06-11T19:10:43.289550",
     "exception": false,
     "start_time": "2022-06-11T19:10:43.283582",
     "status": "completed"
    },
    "tags": []
   },
   "source": [
    "# Train and Test"
   ]
  },
  {
   "cell_type": "code",
   "execution_count": 8,
   "id": "d3033d9b",
   "metadata": {
    "execution": {
     "iopub.execute_input": "2022-06-11T19:10:43.302846Z",
     "iopub.status.busy": "2022-06-11T19:10:43.302212Z",
     "iopub.status.idle": "2022-06-11T19:10:43.457070Z",
     "shell.execute_reply": "2022-06-11T19:10:43.456195Z"
    },
    "papermill": {
     "duration": 0.163721,
     "end_time": "2022-06-11T19:10:43.459143",
     "exception": false,
     "start_time": "2022-06-11T19:10:43.295422",
     "status": "completed"
    },
    "tags": []
   },
   "outputs": [],
   "source": [
    "X = []\n",
    "y = []\n",
    "\n",
    "for i in sequences:\n",
    "    X.append(i[0:3])\n",
    "    y.append(i[3])\n",
    "    \n",
    "X = np.array(X)\n",
    "y = np.array(y)"
   ]
  },
  {
   "cell_type": "code",
   "execution_count": 9,
   "id": "ffb62e80",
   "metadata": {
    "execution": {
     "iopub.execute_input": "2022-06-11T19:10:43.473133Z",
     "iopub.status.busy": "2022-06-11T19:10:43.472362Z",
     "iopub.status.idle": "2022-06-11T19:10:43.477961Z",
     "shell.execute_reply": "2022-06-11T19:10:43.477163Z"
    },
    "papermill": {
     "duration": 0.015823,
     "end_time": "2022-06-11T19:10:43.481146",
     "exception": false,
     "start_time": "2022-06-11T19:10:43.465323",
     "status": "completed"
    },
    "tags": []
   },
   "outputs": [
    {
     "name": "stdout",
     "output_type": "stream",
     "text": [
      "Data :\n",
      " [[ 142 4680    1]\n",
      " [4680    1  986]\n",
      " [   1  986    5]\n",
      " [ 986    5  125]\n",
      " [   5  125   33]\n",
      " [ 125   33   46]\n",
      " [  33   46  556]\n",
      " [  46  556 2164]\n",
      " [ 556 2164 2165]\n",
      " [2164 2165   27]]\n",
      "\n",
      "Response :\n",
      " [ 986    5  125   33   46  556 2164 2165   27  987]\n"
     ]
    }
   ],
   "source": [
    "print(\"Data :\\n\", X[:10])\n",
    "print()\n",
    "print(\"Response :\\n\", y[:10])"
   ]
  },
  {
   "cell_type": "code",
   "execution_count": 10,
   "id": "e3cfb311",
   "metadata": {
    "execution": {
     "iopub.execute_input": "2022-06-11T19:10:43.495066Z",
     "iopub.status.busy": "2022-06-11T19:10:43.494453Z",
     "iopub.status.idle": "2022-06-11T19:10:43.716206Z",
     "shell.execute_reply": "2022-06-11T19:10:43.715434Z"
    },
    "papermill": {
     "duration": 0.230253,
     "end_time": "2022-06-11T19:10:43.718081",
     "exception": false,
     "start_time": "2022-06-11T19:10:43.487828",
     "status": "completed"
    },
    "tags": []
   },
   "outputs": [
    {
     "data": {
      "text/plain": [
       "array([[0., 0., 0., ..., 0., 0., 0.],\n",
       "       [0., 0., 0., ..., 0., 0., 0.],\n",
       "       [0., 0., 0., ..., 0., 0., 0.],\n",
       "       ...,\n",
       "       [0., 0., 0., ..., 0., 0., 0.],\n",
       "       [0., 0., 0., ..., 0., 0., 0.],\n",
       "       [0., 0., 0., ..., 0., 0., 0.]], dtype=float32)"
      ]
     },
     "execution_count": 10,
     "metadata": {},
     "output_type": "execute_result"
    }
   ],
   "source": [
    "y = to_categorical(y, num_classes=vocab_size)\n",
    "y[:10]"
   ]
  },
  {
   "cell_type": "markdown",
   "id": "68373f25",
   "metadata": {
    "papermill": {
     "duration": 0.006075,
     "end_time": "2022-06-11T19:10:43.730460",
     "exception": false,
     "start_time": "2022-06-11T19:10:43.724385",
     "status": "completed"
    },
    "tags": []
   },
   "source": [
    "# LSTM"
   ]
  },
  {
   "cell_type": "code",
   "execution_count": 11,
   "id": "3e6f1078",
   "metadata": {
    "execution": {
     "iopub.execute_input": "2022-06-11T19:10:43.744256Z",
     "iopub.status.busy": "2022-06-11T19:10:43.743928Z",
     "iopub.status.idle": "2022-06-11T19:10:48.778912Z",
     "shell.execute_reply": "2022-06-11T19:10:48.778102Z"
    },
    "papermill": {
     "duration": 5.044183,
     "end_time": "2022-06-11T19:10:48.780913",
     "exception": false,
     "start_time": "2022-06-11T19:10:43.736730",
     "status": "completed"
    },
    "tags": []
   },
   "outputs": [
    {
     "name": "stderr",
     "output_type": "stream",
     "text": [
      "2022-06-11 19:10:43.827988: I tensorflow/stream_executor/cuda/cuda_gpu_executor.cc:937] successful NUMA node read from SysFS had negative value (-1), but there must be at least one NUMA node, so returning NUMA node zero\n",
      "2022-06-11 19:10:43.949734: I tensorflow/stream_executor/cuda/cuda_gpu_executor.cc:937] successful NUMA node read from SysFS had negative value (-1), but there must be at least one NUMA node, so returning NUMA node zero\n",
      "2022-06-11 19:10:43.950588: I tensorflow/stream_executor/cuda/cuda_gpu_executor.cc:937] successful NUMA node read from SysFS had negative value (-1), but there must be at least one NUMA node, so returning NUMA node zero\n",
      "2022-06-11 19:10:43.951748: I tensorflow/core/platform/cpu_feature_guard.cc:142] This TensorFlow binary is optimized with oneAPI Deep Neural Network Library (oneDNN) to use the following CPU instructions in performance-critical operations:  AVX2 AVX512F FMA\n",
      "To enable them in other operations, rebuild TensorFlow with the appropriate compiler flags.\n",
      "2022-06-11 19:10:43.952034: I tensorflow/stream_executor/cuda/cuda_gpu_executor.cc:937] successful NUMA node read from SysFS had negative value (-1), but there must be at least one NUMA node, so returning NUMA node zero\n",
      "2022-06-11 19:10:43.952724: I tensorflow/stream_executor/cuda/cuda_gpu_executor.cc:937] successful NUMA node read from SysFS had negative value (-1), but there must be at least one NUMA node, so returning NUMA node zero\n",
      "2022-06-11 19:10:43.953350: I tensorflow/stream_executor/cuda/cuda_gpu_executor.cc:937] successful NUMA node read from SysFS had negative value (-1), but there must be at least one NUMA node, so returning NUMA node zero\n",
      "2022-06-11 19:10:46.124531: I tensorflow/stream_executor/cuda/cuda_gpu_executor.cc:937] successful NUMA node read from SysFS had negative value (-1), but there must be at least one NUMA node, so returning NUMA node zero\n",
      "2022-06-11 19:10:46.125374: I tensorflow/stream_executor/cuda/cuda_gpu_executor.cc:937] successful NUMA node read from SysFS had negative value (-1), but there must be at least one NUMA node, so returning NUMA node zero\n",
      "2022-06-11 19:10:46.126068: I tensorflow/stream_executor/cuda/cuda_gpu_executor.cc:937] successful NUMA node read from SysFS had negative value (-1), but there must be at least one NUMA node, so returning NUMA node zero\n",
      "2022-06-11 19:10:46.126665: I tensorflow/core/common_runtime/gpu/gpu_device.cc:1510] Created device /job:localhost/replica:0/task:0/device:GPU:0 with 15403 MB memory:  -> device: 0, name: Tesla P100-PCIE-16GB, pci bus id: 0000:00:04.0, compute capability: 6.0\n"
     ]
    }
   ],
   "source": [
    "model = Sequential()\n",
    "model.add(Embedding(vocab_size, 10, input_length=3))\n",
    "model.add(LSTM(1000, return_sequences=True))\n",
    "model.add(LSTM(1000))\n",
    "model.add(Dense(1000, activation=\"relu\"))\n",
    "model.add(Dense(vocab_size, activation=\"softmax\"))"
   ]
  },
  {
   "cell_type": "code",
   "execution_count": 12,
   "id": "037ebb0f",
   "metadata": {
    "execution": {
     "iopub.execute_input": "2022-06-11T19:10:48.795291Z",
     "iopub.status.busy": "2022-06-11T19:10:48.794837Z",
     "iopub.status.idle": "2022-06-11T19:10:48.799981Z",
     "shell.execute_reply": "2022-06-11T19:10:48.799119Z"
    },
    "papermill": {
     "duration": 0.016151,
     "end_time": "2022-06-11T19:10:48.803572",
     "exception": false,
     "start_time": "2022-06-11T19:10:48.787421",
     "status": "completed"
    },
    "tags": []
   },
   "outputs": [
    {
     "name": "stdout",
     "output_type": "stream",
     "text": [
      "Model: \"sequential\"\n",
      "_________________________________________________________________\n",
      "Layer (type)                 Output Shape              Param #   \n",
      "=================================================================\n",
      "embedding (Embedding)        (None, 3, 10)             86240     \n",
      "_________________________________________________________________\n",
      "lstm (LSTM)                  (None, 3, 1000)           4044000   \n",
      "_________________________________________________________________\n",
      "lstm_1 (LSTM)                (None, 1000)              8004000   \n",
      "_________________________________________________________________\n",
      "dense (Dense)                (None, 1000)              1001000   \n",
      "_________________________________________________________________\n",
      "dense_1 (Dense)              (None, 8624)              8632624   \n",
      "=================================================================\n",
      "Total params: 21,767,864\n",
      "Trainable params: 21,767,864\n",
      "Non-trainable params: 0\n",
      "_________________________________________________________________\n"
     ]
    }
   ],
   "source": [
    "model.summary()"
   ]
  },
  {
   "cell_type": "code",
   "execution_count": 13,
   "id": "ba4e0a3a",
   "metadata": {
    "execution": {
     "iopub.execute_input": "2022-06-11T19:10:48.818441Z",
     "iopub.status.busy": "2022-06-11T19:10:48.818184Z",
     "iopub.status.idle": "2022-06-11T19:10:49.786642Z",
     "shell.execute_reply": "2022-06-11T19:10:49.785476Z"
    },
    "papermill": {
     "duration": 0.977621,
     "end_time": "2022-06-11T19:10:49.788719",
     "exception": false,
     "start_time": "2022-06-11T19:10:48.811098",
     "status": "completed"
    },
    "tags": []
   },
   "outputs": [
    {
     "data": {
      "image/png": "[encoded data removed]",
      "text/plain": [
       "<IPython.core.display.Image object>"
      ]
     },
     "execution_count": 13,
     "metadata": {},
     "output_type": "execute_result"
    }
   ],
   "source": [
    "keras.utils.plot_model(model, show_layer_names=True)"
   ]
  },
  {
   "cell_type": "markdown",
   "id": "6a311bfc",
   "metadata": {
    "papermill": {
     "duration": 0.006869,
     "end_time": "2022-06-11T19:10:49.802855",
     "exception": false,
     "start_time": "2022-06-11T19:10:49.795986",
     "status": "completed"
    },
    "tags": []
   },
   "source": [
    "# Modeling"
   ]
  },
  {
   "cell_type": "code",
   "execution_count": 14,
   "id": "d7452dbb",
   "metadata": {
    "_kg_hide-output": true,
    "execution": {
     "iopub.execute_input": "2022-06-11T19:10:49.818294Z",
     "iopub.status.busy": "2022-06-11T19:10:49.817966Z",
     "iopub.status.idle": "2022-06-11T19:39:37.620304Z",
     "shell.execute_reply": "2022-06-11T19:39:37.619448Z"
    },
    "papermill": {
     "duration": 1727.812125,
     "end_time": "2022-06-11T19:39:37.622186",
     "exception": false,
     "start_time": "2022-06-11T19:10:49.810061",
     "status": "completed"
    },
    "tags": []
   },
   "outputs": [
    {
     "name": "stderr",
     "output_type": "stream",
     "text": [
      "2022-06-11 19:10:49.837821: W tensorflow/core/framework/cpu_allocator_impl.cc:80] Allocation of 3006809344 exceeds 10% of free system memory.\n",
      "2022-06-11 19:10:53.478531: W tensorflow/core/framework/cpu_allocator_impl.cc:80] Allocation of 3006809344 exceeds 10% of free system memory.\n",
      "2022-06-11 19:10:55.667036: I tensorflow/compiler/mlir/mlir_graph_optimization_pass.cc:185] None of the MLIR Optimization Passes are enabled (registered 2)\n"
     ]
    },
    {
     "name": "stdout",
     "output_type": "stream",
     "text": [
      "Epoch 1/150\n"
     ]
    },
    {
     "name": "stderr",
     "output_type": "stream",
     "text": [
      "2022-06-11 19:10:58.758964: I tensorflow/stream_executor/cuda/cuda_dnn.cc:369] Loaded cuDNN version 8005\n"
     ]
    },
    {
     "name": "stdout",
     "output_type": "stream",
     "text": [
      "681/681 [==============================] - 18s 19ms/step - loss: 6.5591 - val_loss: 6.5090\n",
      "\n",
      "Epoch 00001: loss improved from inf to 6.55915, saving model to nextword1.h5\n",
      "Epoch 2/150\n",
      "681/681 [==============================] - 11s 16ms/step - loss: 5.9825 - val_loss: 6.2887\n",
      "\n",
      "Epoch 00002: loss improved from 6.55915 to 5.98251, saving model to nextword1.h5\n",
      "Epoch 3/150\n",
      "681/681 [==============================] - 11s 16ms/step - loss: 5.5802 - val_loss: 6.2859\n",
      "\n",
      "Epoch 00003: loss improved from 5.98251 to 5.58017, saving model to nextword1.h5\n",
      "Epoch 4/150\n",
      "681/681 [==============================] - 11s 16ms/step - loss: 5.3007 - val_loss: 6.3310\n",
      "\n",
      "Epoch 00004: loss improved from 5.58017 to 5.30069, saving model to nextword1.h5\n",
      "Epoch 5/150\n",
      "681/681 [==============================] - 11s 16ms/step - loss: 5.0639 - val_loss: 6.4711\n",
      "\n",
      "Epoch 00005: loss improved from 5.30069 to 5.06389, saving model to nextword1.h5\n",
      "Epoch 6/150\n",
      "681/681 [==============================] - 11s 16ms/step - loss: 4.8341 - val_loss: 6.6774\n",
      "\n",
      "Epoch 00006: loss improved from 5.06389 to 4.83413, saving model to nextword1.h5\n",
      "Epoch 7/150\n",
      "681/681 [==============================] - 11s 17ms/step - loss: 4.5916 - val_loss: 6.9719\n",
      "\n",
      "Epoch 00007: loss improved from 4.83413 to 4.59159, saving model to nextword1.h5\n",
      "Epoch 8/150\n",
      "681/681 [==============================] - 11s 16ms/step - loss: 4.3197 - val_loss: 7.3254\n",
      "\n",
      "Epoch 00008: loss improved from 4.59159 to 4.31975, saving model to nextword1.h5\n",
      "Epoch 9/150\n",
      "681/681 [==============================] - 11s 16ms/step - loss: 4.0203 - val_loss: 7.8719\n",
      "\n",
      "Epoch 00009: loss improved from 4.31975 to 4.02032, saving model to nextword1.h5\n",
      "Epoch 10/150\n",
      "681/681 [==============================] - 11s 16ms/step - loss: 3.7144 - val_loss: 8.5474\n",
      "\n",
      "Epoch 00010: loss improved from 4.02032 to 3.71443, saving model to nextword1.h5\n",
      "Epoch 11/150\n",
      "681/681 [==============================] - 11s 16ms/step - loss: 3.4240 - val_loss: 9.0726\n",
      "\n",
      "Epoch 00011: loss improved from 3.71443 to 3.42395, saving model to nextword1.h5\n",
      "Epoch 12/150\n",
      "681/681 [==============================] - 11s 16ms/step - loss: 3.1533 - val_loss: 9.6983\n",
      "\n",
      "Epoch 00012: loss improved from 3.42395 to 3.15334, saving model to nextword1.h5\n",
      "Epoch 13/150\n",
      "681/681 [==============================] - 11s 16ms/step - loss: 2.9055 - val_loss: 10.4317\n",
      "\n",
      "Epoch 00013: loss improved from 3.15334 to 2.90547, saving model to nextword1.h5\n",
      "Epoch 14/150\n",
      "681/681 [==============================] - 11s 16ms/step - loss: 2.6682 - val_loss: 11.0574\n",
      "\n",
      "Epoch 00014: loss improved from 2.90547 to 2.66824, saving model to nextword1.h5\n",
      "Epoch 15/150\n",
      "681/681 [==============================] - 11s 16ms/step - loss: 2.4417 - val_loss: 11.8176\n",
      "\n",
      "Epoch 00015: loss improved from 2.66824 to 2.44168, saving model to nextword1.h5\n",
      "Epoch 16/150\n",
      "681/681 [==============================] - 11s 16ms/step - loss: 2.2197 - val_loss: 12.4320\n",
      "\n",
      "Epoch 00016: loss improved from 2.44168 to 2.21967, saving model to nextword1.h5\n",
      "Epoch 17/150\n",
      "681/681 [==============================] - 11s 16ms/step - loss: 2.0043 - val_loss: 13.2307\n",
      "\n",
      "Epoch 00017: loss improved from 2.21967 to 2.00430, saving model to nextword1.h5\n",
      "Epoch 18/150\n",
      "681/681 [==============================] - 11s 17ms/step - loss: 1.7909 - val_loss: 13.8821\n",
      "\n",
      "Epoch 00018: loss improved from 2.00430 to 1.79092, saving model to nextword1.h5\n",
      "Epoch 19/150\n",
      "681/681 [==============================] - 11s 16ms/step - loss: 1.5905 - val_loss: 14.7438\n",
      "\n",
      "Epoch 00019: loss improved from 1.79092 to 1.59051, saving model to nextword1.h5\n",
      "Epoch 20/150\n",
      "681/681 [==============================] - 11s 16ms/step - loss: 1.4026 - val_loss: 15.2171\n",
      "\n",
      "Epoch 00020: loss improved from 1.59051 to 1.40255, saving model to nextword1.h5\n",
      "Epoch 21/150\n",
      "681/681 [==============================] - 11s 17ms/step - loss: 1.2337 - val_loss: 15.9839\n",
      "\n",
      "Epoch 00021: loss improved from 1.40255 to 1.23375, saving model to nextword1.h5\n",
      "Epoch 22/150\n",
      "681/681 [==============================] - 11s 16ms/step - loss: 1.0940 - val_loss: 16.3805\n",
      "\n",
      "Epoch 00022: loss improved from 1.23375 to 1.09404, saving model to nextword1.h5\n",
      "Epoch 23/150\n",
      "681/681 [==============================] - 11s 16ms/step - loss: 0.9697 - val_loss: 16.8193\n",
      "\n",
      "Epoch 00023: loss improved from 1.09404 to 0.96974, saving model to nextword1.h5\n",
      "Epoch 24/150\n",
      "681/681 [==============================] - 11s 16ms/step - loss: 0.8721 - val_loss: 16.9084\n",
      "\n",
      "Epoch 00024: loss improved from 0.96974 to 0.87207, saving model to nextword1.h5\n",
      "Epoch 25/150\n",
      "681/681 [==============================] - 11s 16ms/step - loss: 0.7968 - val_loss: 17.2441\n",
      "\n",
      "Epoch 00025: loss improved from 0.87207 to 0.79679, saving model to nextword1.h5\n",
      "Epoch 26/150\n",
      "681/681 [==============================] - 11s 16ms/step - loss: 0.7401 - val_loss: 17.2750\n",
      "\n",
      "Epoch 00026: loss improved from 0.79679 to 0.74007, saving model to nextword1.h5\n",
      "Epoch 27/150\n",
      "681/681 [==============================] - 11s 16ms/step - loss: 0.6897 - val_loss: 17.2713\n",
      "\n",
      "Epoch 00027: loss improved from 0.74007 to 0.68975, saving model to nextword1.h5\n",
      "Epoch 28/150\n",
      "681/681 [==============================] - 11s 16ms/step - loss: 0.6564 - val_loss: 18.0804\n",
      "\n",
      "Epoch 00028: loss improved from 0.68975 to 0.65645, saving model to nextword1.h5\n",
      "Epoch 29/150\n",
      "681/681 [==============================] - 11s 17ms/step - loss: 0.6299 - val_loss: 17.4912\n",
      "\n",
      "Epoch 00029: loss improved from 0.65645 to 0.62988, saving model to nextword1.h5\n",
      "Epoch 30/150\n",
      "681/681 [==============================] - 11s 16ms/step - loss: 0.5984 - val_loss: 17.6662\n",
      "\n",
      "Epoch 00030: loss improved from 0.62988 to 0.59841, saving model to nextword1.h5\n",
      "Epoch 31/150\n",
      "681/681 [==============================] - 11s 16ms/step - loss: 0.5783 - val_loss: 17.4757\n",
      "\n",
      "Epoch 00031: loss improved from 0.59841 to 0.57830, saving model to nextword1.h5\n",
      "Epoch 32/150\n",
      "681/681 [==============================] - 11s 16ms/step - loss: 0.5651 - val_loss: 17.5915\n",
      "\n",
      "Epoch 00032: loss improved from 0.57830 to 0.56509, saving model to nextword1.h5\n",
      "Epoch 33/150\n",
      "681/681 [==============================] - 11s 16ms/step - loss: 0.5444 - val_loss: 17.8177\n",
      "\n",
      "Epoch 00033: loss improved from 0.56509 to 0.54438, saving model to nextword1.h5\n",
      "Epoch 34/150\n",
      "681/681 [==============================] - 11s 17ms/step - loss: 0.5329 - val_loss: 17.7975\n",
      "\n",
      "Epoch 00034: loss improved from 0.54438 to 0.53286, saving model to nextword1.h5\n",
      "Epoch 35/150\n",
      "681/681 [==============================] - 11s 16ms/step - loss: 0.5198 - val_loss: 17.4710\n",
      "\n",
      "Epoch 00035: loss improved from 0.53286 to 0.51983, saving model to nextword1.h5\n",
      "Epoch 36/150\n",
      "681/681 [==============================] - 11s 16ms/step - loss: 0.5096 - val_loss: 17.8761\n",
      "\n",
      "Epoch 00036: loss improved from 0.51983 to 0.50957, saving model to nextword1.h5\n",
      "Epoch 37/150\n",
      "681/681 [==============================] - 11s 16ms/step - loss: 0.4956 - val_loss: 17.8288\n",
      "\n",
      "Epoch 00037: loss improved from 0.50957 to 0.49557, saving model to nextword1.h5\n",
      "Epoch 38/150\n",
      "681/681 [==============================] - 11s 16ms/step - loss: 0.4872 - val_loss: 17.7181\n",
      "\n",
      "Epoch 00038: loss improved from 0.49557 to 0.48720, saving model to nextword1.h5\n",
      "Epoch 39/150\n",
      "681/681 [==============================] - 11s 16ms/step - loss: 0.4827 - val_loss: 17.8224\n",
      "\n",
      "Epoch 00039: loss improved from 0.48720 to 0.48271, saving model to nextword1.h5\n",
      "Epoch 40/150\n",
      "681/681 [==============================] - 11s 17ms/step - loss: 0.4749 - val_loss: 17.4517\n",
      "\n",
      "Epoch 00040: loss improved from 0.48271 to 0.47494, saving model to nextword1.h5\n",
      "Epoch 41/150\n",
      "681/681 [==============================] - 11s 16ms/step - loss: 0.4673 - val_loss: 17.6844\n",
      "\n",
      "Epoch 00041: loss improved from 0.47494 to 0.46734, saving model to nextword1.h5\n",
      "Epoch 42/150\n",
      "681/681 [==============================] - 11s 16ms/step - loss: 0.4573 - val_loss: 17.4300\n",
      "\n",
      "Epoch 00042: loss improved from 0.46734 to 0.45734, saving model to nextword1.h5\n",
      "Epoch 43/150\n",
      "681/681 [==============================] - 11s 16ms/step - loss: 0.4524 - val_loss: 17.6476\n",
      "\n",
      "Epoch 00043: loss improved from 0.45734 to 0.45236, saving model to nextword1.h5\n",
      "Epoch 44/150\n",
      "681/681 [==============================] - 11s 16ms/step - loss: 0.4436 - val_loss: 17.6285\n",
      "\n",
      "Epoch 00044: loss improved from 0.45236 to 0.44360, saving model to nextword1.h5\n",
      "Epoch 45/150\n",
      "681/681 [==============================] - 11s 16ms/step - loss: 0.4383 - val_loss: 17.7243\n",
      "\n",
      "Epoch 00045: loss improved from 0.44360 to 0.43832, saving model to nextword1.h5\n",
      "Epoch 46/150\n",
      "681/681 [==============================] - 11s 17ms/step - loss: 0.4322 - val_loss: 17.6315\n",
      "\n",
      "Epoch 00046: loss improved from 0.43832 to 0.43218, saving model to nextword1.h5\n",
      "Epoch 47/150\n",
      "681/681 [==============================] - 11s 16ms/step - loss: 0.4290 - val_loss: 18.0878\n",
      "\n",
      "Epoch 00047: loss improved from 0.43218 to 0.42896, saving model to nextword1.h5\n",
      "Epoch 48/150\n",
      "681/681 [==============================] - 11s 16ms/step - loss: 0.4223 - val_loss: 17.9267\n",
      "\n",
      "Epoch 00048: loss improved from 0.42896 to 0.42227, saving model to nextword1.h5\n",
      "Epoch 49/150\n",
      "681/681 [==============================] - 11s 16ms/step - loss: 0.4150 - val_loss: 17.8647\n",
      "\n",
      "Epoch 00049: loss improved from 0.42227 to 0.41496, saving model to nextword1.h5\n",
      "Epoch 50/150\n",
      "681/681 [==============================] - 11s 16ms/step - loss: 0.4134 - val_loss: 18.0269\n",
      "\n",
      "Epoch 00050: loss improved from 0.41496 to 0.41339, saving model to nextword1.h5\n",
      "Epoch 51/150\n",
      "681/681 [==============================] - 11s 17ms/step - loss: 0.4111 - val_loss: 18.0005\n",
      "\n",
      "Epoch 00051: loss improved from 0.41339 to 0.41113, saving model to nextword1.h5\n",
      "Epoch 52/150\n",
      "681/681 [==============================] - 11s 16ms/step - loss: 0.4046 - val_loss: 18.3914\n",
      "\n",
      "Epoch 00052: loss improved from 0.41113 to 0.40459, saving model to nextword1.h5\n",
      "Epoch 53/150\n",
      "681/681 [==============================] - 11s 16ms/step - loss: 0.3994 - val_loss: 18.3414\n",
      "\n",
      "Epoch 00053: loss improved from 0.40459 to 0.39937, saving model to nextword1.h5\n",
      "Epoch 54/150\n",
      "681/681 [==============================] - 11s 17ms/step - loss: 0.3954 - val_loss: 18.4120\n",
      "\n",
      "Epoch 00054: loss improved from 0.39937 to 0.39538, saving model to nextword1.h5\n",
      "Epoch 55/150\n",
      "681/681 [==============================] - 11s 16ms/step - loss: 0.3923 - val_loss: 18.1718\n",
      "\n",
      "Epoch 00055: loss improved from 0.39538 to 0.39230, saving model to nextword1.h5\n",
      "Epoch 56/150\n",
      "681/681 [==============================] - 11s 16ms/step - loss: 0.3923 - val_loss: 18.4766\n",
      "\n",
      "Epoch 00056: loss improved from 0.39230 to 0.39226, saving model to nextword1.h5\n",
      "Epoch 57/150\n",
      "681/681 [==============================] - 11s 16ms/step - loss: 0.3882 - val_loss: 18.3922\n",
      "\n",
      "Epoch 00057: loss improved from 0.39226 to 0.38818, saving model to nextword1.h5\n",
      "Epoch 58/150\n",
      "681/681 [==============================] - 11s 16ms/step - loss: 0.3840 - val_loss: 18.1399\n",
      "\n",
      "Epoch 00058: loss improved from 0.38818 to 0.38398, saving model to nextword1.h5\n",
      "Epoch 59/150\n",
      "681/681 [==============================] - 11s 16ms/step - loss: 0.3771 - val_loss: 18.3102\n",
      "\n",
      "Epoch 00059: loss improved from 0.38398 to 0.37709, saving model to nextword1.h5\n",
      "Epoch 60/150\n",
      "681/681 [==============================] - 11s 17ms/step - loss: 0.3769 - val_loss: 18.8945\n",
      "\n",
      "Epoch 00060: loss improved from 0.37709 to 0.37691, saving model to nextword1.h5\n",
      "Epoch 61/150\n",
      "681/681 [==============================] - 11s 16ms/step - loss: 0.3708 - val_loss: 18.4924\n",
      "\n",
      "Epoch 00061: loss improved from 0.37691 to 0.37083, saving model to nextword1.h5\n",
      "Epoch 62/150\n",
      "681/681 [==============================] - 11s 16ms/step - loss: 0.3709 - val_loss: 18.5114\n",
      "\n",
      "Epoch 00062: loss did not improve from 0.37083\n",
      "Epoch 63/150\n",
      "681/681 [==============================] - 11s 17ms/step - loss: 0.3688 - val_loss: 18.6284\n",
      "\n",
      "Epoch 00063: loss improved from 0.37083 to 0.36875, saving model to nextword1.h5\n",
      "Epoch 64/150\n",
      "681/681 [==============================] - 11s 16ms/step - loss: 0.3636 - val_loss: 18.6653\n",
      "\n",
      "Epoch 00064: loss improved from 0.36875 to 0.36355, saving model to nextword1.h5\n",
      "Epoch 65/150\n",
      "681/681 [==============================] - 12s 17ms/step - loss: 0.3616 - val_loss: 18.6202\n",
      "\n",
      "Epoch 00065: loss improved from 0.36355 to 0.36164, saving model to nextword1.h5\n",
      "Epoch 66/150\n",
      "681/681 [==============================] - 11s 16ms/step - loss: 0.3634 - val_loss: 19.1837\n",
      "\n",
      "Epoch 00066: loss did not improve from 0.36164\n",
      "Epoch 67/150\n",
      "681/681 [==============================] - 11s 16ms/step - loss: 0.3621 - val_loss: 19.1015\n",
      "\n",
      "Epoch 00067: loss did not improve from 0.36164\n",
      "Epoch 68/150\n",
      "681/681 [==============================] - 11s 17ms/step - loss: 0.3597 - val_loss: 19.2770\n",
      "\n",
      "Epoch 00068: loss improved from 0.36164 to 0.35965, saving model to nextword1.h5\n",
      "Epoch 69/150\n",
      "681/681 [==============================] - 11s 16ms/step - loss: 0.3507 - val_loss: 19.5125\n",
      "\n",
      "Epoch 00069: loss improved from 0.35965 to 0.35072, saving model to nextword1.h5\n",
      "Epoch 70/150\n",
      "681/681 [==============================] - 11s 16ms/step - loss: 0.3491 - val_loss: 19.0009\n",
      "\n",
      "Epoch 00070: loss improved from 0.35072 to 0.34913, saving model to nextword1.h5\n",
      "Epoch 71/150\n",
      "681/681 [==============================] - 11s 17ms/step - loss: 0.3455 - val_loss: 19.1488\n",
      "\n",
      "Epoch 00071: loss improved from 0.34913 to 0.34549, saving model to nextword1.h5\n",
      "Epoch 72/150\n",
      "681/681 [==============================] - 11s 16ms/step - loss: 0.3456 - val_loss: 19.4347\n",
      "\n",
      "Epoch 00072: loss did not improve from 0.34549\n",
      "Epoch 73/150\n",
      "681/681 [==============================] - 11s 16ms/step - loss: 0.3488 - val_loss: 19.5854\n",
      "\n",
      "Epoch 00073: loss did not improve from 0.34549\n",
      "Epoch 74/150\n",
      "681/681 [==============================] - 11s 16ms/step - loss: 0.3554 - val_loss: 20.0873\n",
      "\n",
      "Epoch 00074: loss did not improve from 0.34549\n",
      "Epoch 75/150\n",
      "681/681 [==============================] - 11s 16ms/step - loss: 0.3499 - val_loss: 19.5116\n",
      "\n",
      "Epoch 00075: loss did not improve from 0.34549\n",
      "Epoch 76/150\n",
      "681/681 [==============================] - 11s 16ms/step - loss: 0.3345 - val_loss: 19.7864\n",
      "\n",
      "Epoch 00076: loss improved from 0.34549 to 0.33447, saving model to nextword1.h5\n",
      "Epoch 77/150\n",
      "681/681 [==============================] - 11s 17ms/step - loss: 0.3312 - val_loss: 19.0303\n",
      "\n",
      "Epoch 00077: loss improved from 0.33447 to 0.33120, saving model to nextword1.h5\n",
      "Epoch 78/150\n",
      "681/681 [==============================] - 11s 16ms/step - loss: 0.3296 - val_loss: 19.3795\n",
      "\n",
      "Epoch 00078: loss improved from 0.33120 to 0.32959, saving model to nextword1.h5\n",
      "Epoch 79/150\n",
      "681/681 [==============================] - 11s 16ms/step - loss: 0.3310 - val_loss: 20.0991\n",
      "\n",
      "Epoch 00079: loss did not improve from 0.32959\n",
      "Epoch 80/150\n",
      "681/681 [==============================] - 11s 16ms/step - loss: 0.3339 - val_loss: 19.9193\n",
      "\n",
      "Epoch 00080: loss did not improve from 0.32959\n",
      "Epoch 81/150\n",
      "681/681 [==============================] - 11s 16ms/step - loss: 0.3437 - val_loss: 20.2133\n",
      "\n",
      "Epoch 00081: loss did not improve from 0.32959\n",
      "Epoch 82/150\n",
      "681/681 [==============================] - 11s 16ms/step - loss: 0.3507 - val_loss: 19.9342\n",
      "\n",
      "Epoch 00082: loss did not improve from 0.32959\n",
      "Epoch 83/150\n",
      "681/681 [==============================] - 11s 16ms/step - loss: 0.3301 - val_loss: 19.7559\n",
      "\n",
      "Epoch 00083: loss did not improve from 0.32959\n",
      "Epoch 84/150\n",
      "681/681 [==============================] - 11s 16ms/step - loss: 0.3168 - val_loss: 19.5794\n",
      "\n",
      "Epoch 00084: loss improved from 0.32959 to 0.31677, saving model to nextword1.h5\n",
      "Epoch 85/150\n",
      "681/681 [==============================] - 11s 16ms/step - loss: 0.3218 - val_loss: 20.0298\n",
      "\n",
      "Epoch 00085: loss did not improve from 0.31677\n",
      "Epoch 86/150\n",
      "681/681 [==============================] - 11s 16ms/step - loss: 0.3230 - val_loss: 20.1909\n",
      "\n",
      "Epoch 00086: loss did not improve from 0.31677\n",
      "Epoch 87/150\n",
      "681/681 [==============================] - 11s 16ms/step - loss: 0.3301 - val_loss: 20.0810\n",
      "\n",
      "Epoch 00087: loss did not improve from 0.31677\n",
      "Epoch 88/150\n",
      "681/681 [==============================] - 11s 16ms/step - loss: 0.3306 - val_loss: 20.1693\n",
      "\n",
      "Epoch 00088: loss did not improve from 0.31677\n",
      "Epoch 89/150\n",
      "681/681 [==============================] - 11s 16ms/step - loss: 0.3238 - val_loss: 20.4619\n",
      "\n",
      "Epoch 00089: loss did not improve from 0.31677\n",
      "Epoch 90/150\n",
      "681/681 [==============================] - 11s 16ms/step - loss: 0.3162 - val_loss: 20.3201\n",
      "\n",
      "Epoch 00090: loss improved from 0.31677 to 0.31621, saving model to nextword1.h5\n",
      "Epoch 91/150\n",
      "681/681 [==============================] - 11s 16ms/step - loss: 0.3140 - val_loss: 20.5081\n",
      "\n",
      "Epoch 00091: loss improved from 0.31621 to 0.31400, saving model to nextword1.h5\n",
      "Epoch 92/150\n",
      "681/681 [==============================] - 11s 16ms/step - loss: 0.3148 - val_loss: 20.5738\n",
      "\n",
      "Epoch 00092: loss did not improve from 0.31400\n",
      "Epoch 93/150\n",
      "681/681 [==============================] - 11s 16ms/step - loss: 0.3233 - val_loss: 21.1799\n",
      "\n",
      "Epoch 00093: loss did not improve from 0.31400\n",
      "Epoch 94/150\n",
      "681/681 [==============================] - 11s 16ms/step - loss: 0.3282 - val_loss: 20.7931\n",
      "\n",
      "Epoch 00094: loss did not improve from 0.31400\n",
      "Epoch 95/150\n",
      "681/681 [==============================] - 11s 16ms/step - loss: 0.3256 - val_loss: 21.0290\n",
      "\n",
      "Epoch 00095: loss did not improve from 0.31400\n",
      "Epoch 96/150\n",
      "681/681 [==============================] - 11s 16ms/step - loss: 0.3141 - val_loss: 21.0920\n",
      "\n",
      "Epoch 00096: loss did not improve from 0.31400\n",
      "Epoch 97/150\n",
      "681/681 [==============================] - 11s 16ms/step - loss: 0.3068 - val_loss: 20.6748\n",
      "\n",
      "Epoch 00097: loss improved from 0.31400 to 0.30681, saving model to nextword1.h5\n",
      "Epoch 98/150\n",
      "681/681 [==============================] - 11s 16ms/step - loss: 0.3022 - val_loss: 20.7112\n",
      "\n",
      "Epoch 00098: loss improved from 0.30681 to 0.30217, saving model to nextword1.h5\n",
      "Epoch 99/150\n",
      "681/681 [==============================] - 11s 16ms/step - loss: 0.3009 - val_loss: 20.5665\n",
      "\n",
      "Epoch 00099: loss improved from 0.30217 to 0.30090, saving model to nextword1.h5\n",
      "Epoch 100/150\n",
      "681/681 [==============================] - 11s 17ms/step - loss: 0.3060 - val_loss: 21.4253\n",
      "\n",
      "Epoch 00100: loss did not improve from 0.30090\n",
      "Epoch 101/150\n",
      "681/681 [==============================] - 11s 16ms/step - loss: 0.3287 - val_loss: 21.0759\n",
      "\n",
      "Epoch 00101: loss did not improve from 0.30090\n",
      "Epoch 102/150\n",
      "681/681 [==============================] - 11s 16ms/step - loss: 0.3371 - val_loss: 21.5035\n",
      "\n",
      "Epoch 00102: loss did not improve from 0.30090\n",
      "Epoch 103/150\n",
      "681/681 [==============================] - 11s 16ms/step - loss: 0.3133 - val_loss: 21.1706\n",
      "\n",
      "Epoch 00103: loss did not improve from 0.30090\n",
      "Epoch 104/150\n",
      "681/681 [==============================] - 11s 16ms/step - loss: 0.2979 - val_loss: 21.2074\n",
      "\n",
      "Epoch 00104: loss improved from 0.30090 to 0.29790, saving model to nextword1.h5\n",
      "Epoch 105/150\n",
      "681/681 [==============================] - 11s 16ms/step - loss: 0.2913 - val_loss: 21.3370\n",
      "\n",
      "Epoch 00105: loss improved from 0.29790 to 0.29132, saving model to nextword1.h5\n",
      "Epoch 106/150\n",
      "681/681 [==============================] - 11s 17ms/step - loss: 0.2941 - val_loss: 20.3226\n",
      "\n",
      "Epoch 00106: loss did not improve from 0.29132\n",
      "Epoch 107/150\n",
      "681/681 [==============================] - 11s 16ms/step - loss: 0.2973 - val_loss: 20.9257\n",
      "\n",
      "Epoch 00107: loss did not improve from 0.29132\n",
      "Epoch 108/150\n",
      "681/681 [==============================] - 11s 16ms/step - loss: 0.3169 - val_loss: 22.3841\n",
      "\n",
      "Epoch 00108: loss did not improve from 0.29132\n",
      "Epoch 109/150\n",
      "681/681 [==============================] - 11s 16ms/step - loss: 0.3418 - val_loss: 21.8695\n",
      "\n",
      "Epoch 00109: loss did not improve from 0.29132\n",
      "Epoch 110/150\n",
      "681/681 [==============================] - 11s 16ms/step - loss: 0.3110 - val_loss: 21.6129\n",
      "\n",
      "Epoch 00110: loss did not improve from 0.29132\n",
      "Epoch 111/150\n",
      "681/681 [==============================] - 11s 16ms/step - loss: 0.2917 - val_loss: 21.3059\n",
      "\n",
      "Epoch 00111: loss did not improve from 0.29132\n",
      "Epoch 112/150\n",
      "681/681 [==============================] - 11s 17ms/step - loss: 0.2897 - val_loss: 21.0602\n",
      "\n",
      "Epoch 00112: loss improved from 0.29132 to 0.28967, saving model to nextword1.h5\n",
      "Epoch 113/150\n",
      "681/681 [==============================] - 11s 16ms/step - loss: 0.2881 - val_loss: 21.3192\n",
      "\n",
      "Epoch 00113: loss improved from 0.28967 to 0.28809, saving model to nextword1.h5\n",
      "Epoch 114/150\n",
      "681/681 [==============================] - 11s 16ms/step - loss: 0.2936 - val_loss: 21.5125\n",
      "\n",
      "Epoch 00114: loss did not improve from 0.28809\n",
      "Epoch 115/150\n",
      "681/681 [==============================] - 11s 17ms/step - loss: 0.3061 - val_loss: 21.9935\n",
      "\n",
      "Epoch 00115: loss did not improve from 0.28809\n",
      "Epoch 116/150\n",
      "681/681 [==============================] - 11s 16ms/step - loss: 0.3378 - val_loss: 21.9908\n",
      "\n",
      "Epoch 00116: loss did not improve from 0.28809\n",
      "Epoch 117/150\n",
      "681/681 [==============================] - 11s 16ms/step - loss: 0.3061 - val_loss: 21.9418\n",
      "\n",
      "Epoch 00117: loss did not improve from 0.28809\n",
      "Epoch 118/150\n",
      "681/681 [==============================] - 11s 16ms/step - loss: 0.2859 - val_loss: 21.6610\n",
      "\n",
      "Epoch 00118: loss improved from 0.28809 to 0.28589, saving model to nextword1.h5\n",
      "Epoch 119/150\n",
      "681/681 [==============================] - 11s 16ms/step - loss: 0.2830 - val_loss: 21.7020\n",
      "\n",
      "Epoch 00119: loss improved from 0.28589 to 0.28299, saving model to nextword1.h5\n",
      "Epoch 120/150\n",
      "681/681 [==============================] - 11s 16ms/step - loss: 0.2849 - val_loss: 21.8280\n",
      "\n",
      "Epoch 00120: loss did not improve from 0.28299\n",
      "Epoch 121/150\n",
      "681/681 [==============================] - 11s 16ms/step - loss: 0.2927 - val_loss: 22.1822\n",
      "\n",
      "Epoch 00121: loss did not improve from 0.28299\n",
      "Epoch 122/150\n",
      "681/681 [==============================] - 11s 16ms/step - loss: 0.3019 - val_loss: 22.2855\n",
      "\n",
      "Epoch 00122: loss did not improve from 0.28299\n",
      "Epoch 123/150\n",
      "681/681 [==============================] - 11s 16ms/step - loss: 0.3180 - val_loss: 22.4948\n",
      "\n",
      "Epoch 00123: loss did not improve from 0.28299\n",
      "Epoch 124/150\n",
      "681/681 [==============================] - 11s 16ms/step - loss: 0.3086 - val_loss: 22.2999\n",
      "\n",
      "Epoch 00124: loss did not improve from 0.28299\n",
      "Epoch 125/150\n",
      "681/681 [==============================] - 11s 16ms/step - loss: 0.2911 - val_loss: 21.8052\n",
      "\n",
      "Epoch 00125: loss did not improve from 0.28299\n",
      "Epoch 126/150\n",
      "681/681 [==============================] - 11s 16ms/step - loss: 0.2831 - val_loss: 21.9440\n",
      "\n",
      "Epoch 00126: loss did not improve from 0.28299\n",
      "Epoch 127/150\n",
      "681/681 [==============================] - 11s 16ms/step - loss: 0.2840 - val_loss: 22.4081\n",
      "\n",
      "Epoch 00127: loss did not improve from 0.28299\n",
      "Epoch 128/150\n",
      "681/681 [==============================] - 11s 16ms/step - loss: 0.2936 - val_loss: 22.2579\n",
      "\n",
      "Epoch 00128: loss did not improve from 0.28299\n",
      "Epoch 129/150\n",
      "681/681 [==============================] - 11s 16ms/step - loss: 0.3070 - val_loss: 22.7540\n",
      "\n",
      "Epoch 00129: loss did not improve from 0.28299\n",
      "Epoch 130/150\n",
      "681/681 [==============================] - 11s 16ms/step - loss: 0.3001 - val_loss: 22.6414\n",
      "\n",
      "Epoch 00130: loss did not improve from 0.28299\n",
      "Epoch 131/150\n",
      "681/681 [==============================] - 11s 16ms/step - loss: 0.2930 - val_loss: 22.8173\n",
      "\n",
      "Epoch 00131: loss did not improve from 0.28299\n",
      "Epoch 132/150\n",
      "681/681 [==============================] - 11s 16ms/step - loss: 0.2873 - val_loss: 22.7510\n",
      "\n",
      "Epoch 00132: loss did not improve from 0.28299\n",
      "Epoch 133/150\n",
      "681/681 [==============================] - 11s 16ms/step - loss: 0.2810 - val_loss: 22.3737\n",
      "\n",
      "Epoch 00133: loss improved from 0.28299 to 0.28100, saving model to nextword1.h5\n",
      "Epoch 134/150\n",
      "681/681 [==============================] - 11s 16ms/step - loss: 0.2814 - val_loss: 22.3553\n",
      "\n",
      "Epoch 00134: loss did not improve from 0.28100\n",
      "Epoch 135/150\n",
      "681/681 [==============================] - 11s 16ms/step - loss: 0.2845 - val_loss: 22.3952\n",
      "\n",
      "Epoch 00135: loss did not improve from 0.28100\n",
      "Epoch 136/150\n",
      "681/681 [==============================] - 11s 16ms/step - loss: 0.3026 - val_loss: 23.1524\n",
      "\n",
      "Epoch 00136: loss did not improve from 0.28100\n",
      "Epoch 137/150\n",
      "681/681 [==============================] - 11s 16ms/step - loss: 0.3135 - val_loss: 22.8804\n",
      "\n",
      "Epoch 00137: loss did not improve from 0.28100\n",
      "Epoch 138/150\n",
      "681/681 [==============================] - 11s 16ms/step - loss: 0.2913 - val_loss: 22.4821\n",
      "\n",
      "Epoch 00138: loss did not improve from 0.28100\n",
      "Epoch 139/150\n",
      "681/681 [==============================] - 11s 16ms/step - loss: 0.2773 - val_loss: 23.0425\n",
      "\n",
      "Epoch 00139: loss improved from 0.28100 to 0.27731, saving model to nextword1.h5\n",
      "Epoch 140/150\n",
      "681/681 [==============================] - 11s 16ms/step - loss: 0.2782 - val_loss: 22.4199\n",
      "\n",
      "Epoch 00140: loss did not improve from 0.27731\n",
      "Epoch 141/150\n",
      "681/681 [==============================] - 11s 16ms/step - loss: 0.2801 - val_loss: 22.8361\n",
      "\n",
      "Epoch 00141: loss did not improve from 0.27731\n",
      "Epoch 142/150\n",
      "681/681 [==============================] - 11s 16ms/step - loss: 0.2875 - val_loss: 23.5813\n",
      "\n",
      "Epoch 00142: loss did not improve from 0.27731\n",
      "Epoch 143/150\n",
      "681/681 [==============================] - 11s 16ms/step - loss: 0.2996 - val_loss: 23.2214\n",
      "\n",
      "Epoch 00143: loss did not improve from 0.27731\n",
      "Epoch 144/150\n",
      "681/681 [==============================] - 11s 16ms/step - loss: 0.2953 - val_loss: 23.4646\n",
      "\n",
      "Epoch 00144: loss did not improve from 0.27731\n",
      "Epoch 145/150\n",
      "681/681 [==============================] - 11s 16ms/step - loss: 0.2830 - val_loss: 23.0532\n",
      "\n",
      "Epoch 00145: loss did not improve from 0.27731\n",
      "Epoch 146/150\n",
      "681/681 [==============================] - 11s 16ms/step - loss: 0.2779 - val_loss: 23.5374\n",
      "\n",
      "Epoch 00146: loss did not improve from 0.27731\n",
      "Epoch 147/150\n",
      "681/681 [==============================] - 11s 16ms/step - loss: 0.2811 - val_loss: 23.1242\n",
      "\n",
      "Epoch 00147: loss did not improve from 0.27731\n",
      "Epoch 148/150\n",
      "681/681 [==============================] - 11s 16ms/step - loss: 0.2793 - val_loss: 22.7915\n",
      "\n",
      "Epoch 00148: loss did not improve from 0.27731\n",
      "Epoch 149/150\n",
      "681/681 [==============================] - 11s 16ms/step - loss: 0.2834 - val_loss: 23.4063\n",
      "\n",
      "Epoch 00149: loss did not improve from 0.27731\n",
      "Epoch 150/150\n",
      "681/681 [==============================] - 11s 16ms/step - loss: 0.3092 - val_loss: 24.2644\n",
      "\n",
      "Epoch 00150: loss did not improve from 0.27731\n"
     ]
    }
   ],
   "source": [
    "checkpoint = ModelCheckpoint(\"nextword1.h5\", monitor='loss', verbose=1, save_best_only=True)\n",
    "model.compile(loss=\"categorical_crossentropy\", optimizer=Adam(learning_rate=0.001))\n",
    "lstm = model.fit(X, y, validation_split=0.2, epochs=150, batch_size=128, shuffle=True, callbacks=[checkpoint]).history"
   ]
  },
  {
   "cell_type": "code",
   "execution_count": 15,
   "id": "9314a9d1",
   "metadata": {
    "execution": {
     "iopub.execute_input": "2022-06-11T19:39:41.175863Z",
     "iopub.status.busy": "2022-06-11T19:39:41.175488Z",
     "iopub.status.idle": "2022-06-11T19:39:41.463515Z",
     "shell.execute_reply": "2022-06-11T19:39:41.462719Z"
    },
    "papermill": {
     "duration": 2.156578,
     "end_time": "2022-06-11T19:39:41.465976",
     "exception": false,
     "start_time": "2022-06-11T19:39:39.309398",
     "status": "completed"
    },
    "tags": []
   },
   "outputs": [
    {
     "data": {
      "text/plain": [
       "<matplotlib.legend.Legend at 0x7fef1434a550>"
      ]
     },
     "execution_count": 15,
     "metadata": {},
     "output_type": "execute_result"
    },
    {
     "data": {
      "image/png": "[encoded data removed]",
      "text/plain": [
       "<Figure size 432x288 with 1 Axes>"
      ]
     },
     "metadata": {
      "needs_background": "light"
     },
     "output_type": "display_data"
    }
   ],
   "source": [
    "plt.plot(lstm['loss'])\n",
    "plt.plot(lstm['val_loss'])\n",
    "plt.title('model loss')\n",
    "plt.ylabel('loss')\n",
    "plt.xlabel('epoch')\n",
    "plt.legend(['train', 'test'], loc='upper right')"
   ]
  },
  {
   "cell_type": "markdown",
   "id": "c59ab524",
   "metadata": {
    "papermill": {
     "duration": 1.582988,
     "end_time": "2022-06-11T19:39:45.219525",
     "exception": false,
     "start_time": "2022-06-11T19:39:43.636537",
     "status": "completed"
    },
    "tags": []
   },
   "source": [
    "# Results"
   ]
  },
  {
   "cell_type": "code",
   "execution_count": 16,
   "id": "8b07d6e3",
   "metadata": {
    "execution": {
     "iopub.execute_input": "2022-06-11T19:39:48.525004Z",
     "iopub.status.busy": "2022-06-11T19:39:48.524515Z",
     "iopub.status.idle": "2022-06-11T19:39:51.456604Z",
     "shell.execute_reply": "2022-06-11T19:39:51.455743Z"
    },
    "papermill": {
     "duration": 4.526972,
     "end_time": "2022-06-11T19:39:51.458735",
     "exception": false,
     "start_time": "2022-06-11T19:39:46.931763",
     "status": "completed"
    },
    "tags": []
   },
   "outputs": [],
   "source": [
    "model = load_model(\"nextword1.h5\")\n",
    "tokenizer = pickle.load(open(\"tokenizer1.pkl\", 'rb'))"
   ]
  },
  {
   "cell_type": "code",
   "execution_count": 17,
   "id": "5ac0112e",
   "metadata": {
    "execution": {
     "iopub.execute_input": "2022-06-11T19:39:54.752926Z",
     "iopub.status.busy": "2022-06-11T19:39:54.752565Z",
     "iopub.status.idle": "2022-06-11T19:39:54.758071Z",
     "shell.execute_reply": "2022-06-11T19:39:54.757216Z"
    },
    "papermill": {
     "duration": 1.58601,
     "end_time": "2022-06-11T19:39:54.760025",
     "exception": false,
     "start_time": "2022-06-11T19:39:53.174015",
     "status": "completed"
    },
    "tags": []
   },
   "outputs": [],
   "source": [
    "def predict_next_words(model, tokenizer, text) :\n",
    "    \n",
    "    sequence = tokenizer.texts_to_sequences([text])\n",
    "    sequence = np.array(sequence)\n",
    "    \n",
    "    preds = np.argmax(model.predict(sequence))\n",
    "    predicted_word = \"\"\n",
    "    \n",
    "    for key, value in tokenizer.word_index.items() :\n",
    "        if value == preds :\n",
    "            predicted_word = key\n",
    "            break\n",
    "    \n",
    "    return predicted_word"
   ]
  },
  {
   "cell_type": "code",
   "execution_count": 18,
   "id": "431eea29",
   "metadata": {
    "execution": {
     "iopub.execute_input": "2022-06-11T19:39:58.047649Z",
     "iopub.status.busy": "2022-06-11T19:39:58.047276Z",
     "iopub.status.idle": "2022-06-11T19:39:58.736330Z",
     "shell.execute_reply": "2022-06-11T19:39:58.735299Z"
    },
    "papermill": {
     "duration": 2.278852,
     "end_time": "2022-06-11T19:39:58.738569",
     "exception": false,
     "start_time": "2022-06-11T19:39:56.459717",
     "status": "completed"
    },
    "tags": []
   },
   "outputs": [
    {
     "name": "stdout",
     "output_type": "stream",
     "text": [
      "Input : The Adventures of\n",
      "Output :  The Adventures of sherlock\n",
      "\n",
      "Input : by Arthur Conan\n",
      "Output :  by Arthur Conan doyle\n",
      "\n",
      "Input : it is all\n",
      "Output :  it is all right\n",
      "\n",
      "\n",
      "Execution completed...\n"
     ]
    }
   ],
   "source": [
    "l = [\"The Adventures of\", \"by Arthur Conan\", \"it is all\", \"0\"]\n",
    "\n",
    "for i in l :\n",
    "    \n",
    "    text = i\n",
    "    \n",
    "    if text == \"0\" :\n",
    "        print()\n",
    "        print(\"Execution completed...\")\n",
    "        break\n",
    "    \n",
    "    else :\n",
    "        try :\n",
    "            text = text.split(\" \")\n",
    "            text = text[-3:]\n",
    "            print(\"Input :\", i)\n",
    "            print(\"Output : \", i, predict_next_words(model, tokenizer, text))\n",
    "            print()\n",
    "            \n",
    "        except Exception as e :\n",
    "            print(\"Error occured : \", e)\n",
    "            continue"
   ]
  }
 ],
 "metadata": {
  "kernelspec": {
   "display_name": "Python 3",
   "language": "python",
   "name": "python3"
  },
  "language_info": {
   "codemirror_mode": {
    "name": "ipython",
    "version": 3
   },
   "file_extension": ".py",
   "mimetype": "text/x-python",
   "name": "python",
   "nbconvert_exporter": "python",
   "pygments_lexer": "ipython3",
   "version": "3.7.12"
  },
  "papermill": {
   "default_parameters": {},
   "duration": 1782.371422,
   "end_time": "2022-06-11T19:40:03.132790",
   "environment_variables": {},
   "exception": null,
   "input_path": "__notebook__.ipynb",
   "output_path": "__notebook__.ipynb",
   "parameters": {},
   "start_time": "2022-06-11T19:10:20.761368",
   "version": "2.3.4"
  }
 },
 "nbformat": 4,
 "nbformat_minor": 5
}
