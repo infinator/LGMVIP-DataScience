{
 "cells": [
  {
   "cell_type": "markdown",
   "id": "a765e1dc",
   "metadata": {
    "papermill": {
     "duration": 0.004581,
     "end_time": "2022-06-11T04:36:20.621795",
     "exception": false,
     "start_time": "2022-06-11T04:36:20.617214",
     "status": "completed"
    },
    "tags": []
   },
   "source": [
    "<center><h1>MNIST Data Let's Gooooooooo 🥳️</h1></center>"
   ]
  },
  {
   "cell_type": "markdown",
   "id": "b82c1927",
   "metadata": {
    "papermill": {
     "duration": 0.004552,
     "end_time": "2022-06-11T04:36:20.631759",
     "exception": false,
     "start_time": "2022-06-11T04:36:20.627207",
     "status": "completed"
    },
    "tags": []
   },
   "source": [
    "# Loading Libraries"
   ]
  },
  {
   "cell_type": "code",
   "execution_count": 1,
   "id": "b53d2597",
   "metadata": {
    "_cell_guid": "b1076dfc-b9ad-4769-8c92-a6c4dae69d19",
    "_uuid": "8f2839f25d086af736a60e9eeb907d3b93b6e0e5",
    "execution": {
     "iopub.execute_input": "2022-06-11T04:36:20.643638Z",
     "iopub.status.busy": "2022-06-11T04:36:20.642686Z",
     "iopub.status.idle": "2022-06-11T04:36:27.918657Z",
     "shell.execute_reply": "2022-06-11T04:36:27.917796Z"
    },
    "papermill": {
     "duration": 7.284297,
     "end_time": "2022-06-11T04:36:27.921019",
     "exception": false,
     "start_time": "2022-06-11T04:36:20.636722",
     "status": "completed"
    },
    "tags": []
   },
   "outputs": [],
   "source": [
    "import numpy as np\n",
    "import pandas as pd\n",
    "import matplotlib.pyplot as plt\n",
    "%matplotlib inline\n",
    "import keras\n",
    "from keras.models import Sequential\n",
    "from keras.layers import Dense, Dropout\n",
    "from keras.utils import np_utils\n",
    "from keras.datasets import mnist\n",
    "from sklearn.metrics import confusion_matrix\n",
    "import seaborn as sns\n",
    "\n",
    "np.random.seed(0)"
   ]
  },
  {
   "cell_type": "markdown",
   "id": "2040e817",
   "metadata": {
    "papermill": {
     "duration": 0.004776,
     "end_time": "2022-06-11T04:36:27.931253",
     "exception": false,
     "start_time": "2022-06-11T04:36:27.926477",
     "status": "completed"
    },
    "tags": []
   },
   "source": [
    "# Reading the Dataset"
   ]
  },
  {
   "cell_type": "code",
   "execution_count": 2,
   "id": "64e83743",
   "metadata": {
    "execution": {
     "iopub.execute_input": "2022-06-11T04:36:27.945122Z",
     "iopub.status.busy": "2022-06-11T04:36:27.944436Z",
     "iopub.status.idle": "2022-06-11T04:36:28.471219Z",
     "shell.execute_reply": "2022-06-11T04:36:28.470408Z"
    },
    "papermill": {
     "duration": 0.537247,
     "end_time": "2022-06-11T04:36:28.473329",
     "exception": false,
     "start_time": "2022-06-11T04:36:27.936082",
     "status": "completed"
    },
    "tags": []
   },
   "outputs": [
    {
     "name": "stdout",
     "output_type": "stream",
     "text": [
      "Downloading data from https://storage.googleapis.com/tensorflow/tf-keras-datasets/mnist.npz\n",
      "11493376/11490434 [==============================] - 0s 0us/step\n",
      "11501568/11490434 [==============================] - 0s 0us/step\n"
     ]
    }
   ],
   "source": [
    "(x_train, y_train), (x_test, y_test) = mnist.load_data()"
   ]
  },
  {
   "cell_type": "code",
   "execution_count": 3,
   "id": "2d8181f8",
   "metadata": {
    "execution": {
     "iopub.execute_input": "2022-06-11T04:36:28.486131Z",
     "iopub.status.busy": "2022-06-11T04:36:28.485076Z",
     "iopub.status.idle": "2022-06-11T04:36:28.497254Z",
     "shell.execute_reply": "2022-06-11T04:36:28.496176Z"
    },
    "papermill": {
     "duration": 0.020641,
     "end_time": "2022-06-11T04:36:28.499202",
     "exception": false,
     "start_time": "2022-06-11T04:36:28.478561",
     "status": "completed"
    },
    "tags": []
   },
   "outputs": [
    {
     "data": {
      "text/plain": [
       "array([[[0, 0, 0, ..., 0, 0, 0],\n",
       "        [0, 0, 0, ..., 0, 0, 0],\n",
       "        [0, 0, 0, ..., 0, 0, 0],\n",
       "        ...,\n",
       "        [0, 0, 0, ..., 0, 0, 0],\n",
       "        [0, 0, 0, ..., 0, 0, 0],\n",
       "        [0, 0, 0, ..., 0, 0, 0]],\n",
       "\n",
       "       [[0, 0, 0, ..., 0, 0, 0],\n",
       "        [0, 0, 0, ..., 0, 0, 0],\n",
       "        [0, 0, 0, ..., 0, 0, 0],\n",
       "        ...,\n",
       "        [0, 0, 0, ..., 0, 0, 0],\n",
       "        [0, 0, 0, ..., 0, 0, 0],\n",
       "        [0, 0, 0, ..., 0, 0, 0]],\n",
       "\n",
       "       [[0, 0, 0, ..., 0, 0, 0],\n",
       "        [0, 0, 0, ..., 0, 0, 0],\n",
       "        [0, 0, 0, ..., 0, 0, 0],\n",
       "        ...,\n",
       "        [0, 0, 0, ..., 0, 0, 0],\n",
       "        [0, 0, 0, ..., 0, 0, 0],\n",
       "        [0, 0, 0, ..., 0, 0, 0]],\n",
       "\n",
       "       ...,\n",
       "\n",
       "       [[0, 0, 0, ..., 0, 0, 0],\n",
       "        [0, 0, 0, ..., 0, 0, 0],\n",
       "        [0, 0, 0, ..., 0, 0, 0],\n",
       "        ...,\n",
       "        [0, 0, 0, ..., 0, 0, 0],\n",
       "        [0, 0, 0, ..., 0, 0, 0],\n",
       "        [0, 0, 0, ..., 0, 0, 0]],\n",
       "\n",
       "       [[0, 0, 0, ..., 0, 0, 0],\n",
       "        [0, 0, 0, ..., 0, 0, 0],\n",
       "        [0, 0, 0, ..., 0, 0, 0],\n",
       "        ...,\n",
       "        [0, 0, 0, ..., 0, 0, 0],\n",
       "        [0, 0, 0, ..., 0, 0, 0],\n",
       "        [0, 0, 0, ..., 0, 0, 0]],\n",
       "\n",
       "       [[0, 0, 0, ..., 0, 0, 0],\n",
       "        [0, 0, 0, ..., 0, 0, 0],\n",
       "        [0, 0, 0, ..., 0, 0, 0],\n",
       "        ...,\n",
       "        [0, 0, 0, ..., 0, 0, 0],\n",
       "        [0, 0, 0, ..., 0, 0, 0],\n",
       "        [0, 0, 0, ..., 0, 0, 0]]], dtype=uint8)"
      ]
     },
     "execution_count": 3,
     "metadata": {},
     "output_type": "execute_result"
    }
   ],
   "source": [
    "x_train"
   ]
  },
  {
   "cell_type": "code",
   "execution_count": 4,
   "id": "96d70d29",
   "metadata": {
    "execution": {
     "iopub.execute_input": "2022-06-11T04:36:28.516794Z",
     "iopub.status.busy": "2022-06-11T04:36:28.516475Z",
     "iopub.status.idle": "2022-06-11T04:36:28.521365Z",
     "shell.execute_reply": "2022-06-11T04:36:28.520600Z"
    },
    "papermill": {
     "duration": 0.015872,
     "end_time": "2022-06-11T04:36:28.523338",
     "exception": false,
     "start_time": "2022-06-11T04:36:28.507466",
     "status": "completed"
    },
    "tags": []
   },
   "outputs": [
    {
     "data": {
      "text/plain": [
       "array([5, 0, 4, ..., 5, 6, 8], dtype=uint8)"
      ]
     },
     "execution_count": 4,
     "metadata": {},
     "output_type": "execute_result"
    }
   ],
   "source": [
    "y_train"
   ]
  },
  {
   "cell_type": "code",
   "execution_count": 5,
   "id": "5d0384d1",
   "metadata": {
    "execution": {
     "iopub.execute_input": "2022-06-11T04:36:28.541358Z",
     "iopub.status.busy": "2022-06-11T04:36:28.540967Z",
     "iopub.status.idle": "2022-06-11T04:36:28.545702Z",
     "shell.execute_reply": "2022-06-11T04:36:28.544918Z"
    },
    "papermill": {
     "duration": 0.015812,
     "end_time": "2022-06-11T04:36:28.547585",
     "exception": false,
     "start_time": "2022-06-11T04:36:28.531773",
     "status": "completed"
    },
    "tags": []
   },
   "outputs": [
    {
     "name": "stdout",
     "output_type": "stream",
     "text": [
      "(60000, 28, 28) (60000,)\n",
      "(10000, 28, 28) (10000,)\n"
     ]
    }
   ],
   "source": [
    "print(x_train.shape, y_train.shape)\n",
    "print(x_test.shape, y_test.shape)"
   ]
  },
  {
   "cell_type": "code",
   "execution_count": 6,
   "id": "1da2f8b0",
   "metadata": {
    "execution": {
     "iopub.execute_input": "2022-06-11T04:36:28.565730Z",
     "iopub.status.busy": "2022-06-11T04:36:28.565034Z",
     "iopub.status.idle": "2022-06-11T04:36:29.491447Z",
     "shell.execute_reply": "2022-06-11T04:36:29.490524Z"
    },
    "papermill": {
     "duration": 0.937645,
     "end_time": "2022-06-11T04:36:29.493462",
     "exception": false,
     "start_time": "2022-06-11T04:36:28.555817",
     "status": "completed"
    },
    "tags": []
   },
   "outputs": [
    {
     "name": "stdout",
     "output_type": "stream",
     "text": [
      "5\n",
      "0\n",
      "4\n",
      "1\n",
      "9\n",
      "2\n",
      "1\n",
      "3\n",
      "1\n",
      "4\n"
     ]
    },
    {
     "data": {
      "image/png": "[encoded data removed]",
      "text/plain": [
       "<Figure size 1440x1440 with 10 Axes>"
      ]
     },
     "metadata": {
      "needs_background": "light"
     },
     "output_type": "display_data"
    }
   ],
   "source": [
    "num_classes = 10\n",
    "f, ax = plt.subplots(1, num_classes, figsize=(20,20))\n",
    "\n",
    "for i in range(0, num_classes):\n",
    "  sample = x_train[y_train == i][0]\n",
    "  ax[i].imshow(sample, cmap='gray')\n",
    "  ax[i].set_title(\"Label: {}\".format(i), fontsize=16)\n",
    "\n",
    "for i in range(10):\n",
    "  print(y_train[i])\n",
    "\n",
    "y_train = np_utils.to_categorical(y_train, num_classes)\n",
    "y_test = np_utils.to_categorical(y_test, num_classes)"
   ]
  },
  {
   "cell_type": "markdown",
   "id": "c0aa7d5e",
   "metadata": {
    "papermill": {
     "duration": 0.008533,
     "end_time": "2022-06-11T04:36:29.511101",
     "exception": false,
     "start_time": "2022-06-11T04:36:29.502568",
     "status": "completed"
    },
    "tags": []
   },
   "source": [
    "# Preprocessing"
   ]
  },
  {
   "cell_type": "code",
   "execution_count": 7,
   "id": "0481528b",
   "metadata": {
    "execution": {
     "iopub.execute_input": "2022-06-11T04:36:29.530207Z",
     "iopub.status.busy": "2022-06-11T04:36:29.529812Z",
     "iopub.status.idle": "2022-06-11T04:36:29.606891Z",
     "shell.execute_reply": "2022-06-11T04:36:29.605794Z"
    },
    "papermill": {
     "duration": 0.089134,
     "end_time": "2022-06-11T04:36:29.609122",
     "exception": false,
     "start_time": "2022-06-11T04:36:29.519988",
     "status": "completed"
    },
    "tags": []
   },
   "outputs": [],
   "source": [
    "x_train = x_train / 255.0\n",
    "x_test = x_test / 255.0"
   ]
  },
  {
   "cell_type": "code",
   "execution_count": 8,
   "id": "c0b34dcb",
   "metadata": {
    "execution": {
     "iopub.execute_input": "2022-06-11T04:36:29.622278Z",
     "iopub.status.busy": "2022-06-11T04:36:29.621535Z",
     "iopub.status.idle": "2022-06-11T04:36:29.625985Z",
     "shell.execute_reply": "2022-06-11T04:36:29.625477Z"
    },
    "papermill": {
     "duration": 0.012832,
     "end_time": "2022-06-11T04:36:29.627788",
     "exception": false,
     "start_time": "2022-06-11T04:36:29.614956",
     "status": "completed"
    },
    "tags": []
   },
   "outputs": [],
   "source": [
    "x_train = x_train.reshape(x_train.shape[0], -1)\n",
    "x_test = x_test.reshape(x_test.shape[0], -1)"
   ]
  },
  {
   "cell_type": "code",
   "execution_count": 9,
   "id": "ce199fd6",
   "metadata": {
    "execution": {
     "iopub.execute_input": "2022-06-11T04:36:29.645929Z",
     "iopub.status.busy": "2022-06-11T04:36:29.645636Z",
     "iopub.status.idle": "2022-06-11T04:36:29.650182Z",
     "shell.execute_reply": "2022-06-11T04:36:29.649476Z"
    },
    "papermill": {
     "duration": 0.016211,
     "end_time": "2022-06-11T04:36:29.652568",
     "exception": false,
     "start_time": "2022-06-11T04:36:29.636357",
     "status": "completed"
    },
    "tags": []
   },
   "outputs": [
    {
     "name": "stdout",
     "output_type": "stream",
     "text": [
      "(60000, 784)\n",
      "(10000, 784)\n"
     ]
    }
   ],
   "source": [
    "print(x_train.shape)\n",
    "print(x_test.shape)"
   ]
  },
  {
   "cell_type": "markdown",
   "id": "b99f8368",
   "metadata": {
    "papermill": {
     "duration": 0.008294,
     "end_time": "2022-06-11T04:36:29.670060",
     "exception": false,
     "start_time": "2022-06-11T04:36:29.661766",
     "status": "completed"
    },
    "tags": []
   },
   "source": [
    "# Modeling"
   ]
  },
  {
   "cell_type": "code",
   "execution_count": 10,
   "id": "f91f4437",
   "metadata": {
    "execution": {
     "iopub.execute_input": "2022-06-11T04:36:29.689052Z",
     "iopub.status.busy": "2022-06-11T04:36:29.688708Z",
     "iopub.status.idle": "2022-06-11T04:36:29.817605Z",
     "shell.execute_reply": "2022-06-11T04:36:29.816850Z"
    },
    "papermill": {
     "duration": 0.140867,
     "end_time": "2022-06-11T04:36:29.819595",
     "exception": false,
     "start_time": "2022-06-11T04:36:29.678728",
     "status": "completed"
    },
    "tags": []
   },
   "outputs": [
    {
     "name": "stdout",
     "output_type": "stream",
     "text": [
      "Model: \"sequential\"\n",
      "_________________________________________________________________\n",
      "Layer (type)                 Output Shape              Param #   \n",
      "=================================================================\n",
      "dense (Dense)                (None, 128)               100480    \n",
      "_________________________________________________________________\n",
      "dense_1 (Dense)              (None, 128)               16512     \n",
      "_________________________________________________________________\n",
      "dropout (Dropout)            (None, 128)               0         \n",
      "_________________________________________________________________\n",
      "dense_2 (Dense)              (None, 10)                1290      \n",
      "=================================================================\n",
      "Total params: 118,282\n",
      "Trainable params: 118,282\n",
      "Non-trainable params: 0\n",
      "_________________________________________________________________\n"
     ]
    },
    {
     "name": "stderr",
     "output_type": "stream",
     "text": [
      "2022-06-11 04:36:29.721216: I tensorflow/core/common_runtime/process_util.cc:146] Creating new thread pool with default inter op setting: 2. Tune using inter_op_parallelism_threads for best performance.\n"
     ]
    }
   ],
   "source": [
    "model = Sequential()\n",
    "\n",
    "model.add(Dense(units=128, input_shape=(784,), activation='relu'))\n",
    "model.add(Dense(units=128, activation='relu'))\n",
    "model.add(Dropout(0.25))\n",
    "model.add(Dense(units=10, activation='softmax'))\n",
    "\n",
    "model.compile(loss='categorical_crossentropy', optimizer='adam', metrics=['accuracy'])\n",
    "model.summary()"
   ]
  },
  {
   "cell_type": "code",
   "execution_count": 11,
   "id": "93a366ea",
   "metadata": {
    "execution": {
     "iopub.execute_input": "2022-06-11T04:36:29.833951Z",
     "iopub.status.busy": "2022-06-11T04:36:29.832755Z",
     "iopub.status.idle": "2022-06-11T04:42:34.996391Z",
     "shell.execute_reply": "2022-06-11T04:42:34.995375Z"
    },
    "papermill": {
     "duration": 365.172816,
     "end_time": "2022-06-11T04:42:34.998469",
     "exception": false,
     "start_time": "2022-06-11T04:36:29.825653",
     "status": "completed"
    },
    "tags": []
   },
   "outputs": [
    {
     "name": "stdout",
     "output_type": "stream",
     "text": [
      "============================================================\n",
      "Iteration : 1\n"
     ]
    },
    {
     "name": "stderr",
     "output_type": "stream",
     "text": [
      "2022-06-11 04:36:30.032474: I tensorflow/compiler/mlir/mlir_graph_optimization_pass.cc:185] None of the MLIR Optimization Passes are enabled (registered 2)\n"
     ]
    },
    {
     "name": "stdout",
     "output_type": "stream",
     "text": [
      "1875/1875 [==============================] - 3s 1ms/step - loss: 9.5589e-04 - accuracy: 0.9998\n",
      "313/313 [==============================] - 1s 2ms/step - loss: 0.1039 - accuracy: 0.9800\n",
      "Train Loss: 0.0009558939491398633, Train Accuracy: 0.9998499751091003\n",
      "Test Loss: 0.1039431020617485, Test Accuracy: 0.9800000190734863\n",
      "============================================================\n",
      "\n",
      "============================================================\n",
      "Iteration : 2\n",
      "1875/1875 [==============================] - 3s 1ms/step - loss: 2.7089e-04 - accuracy: 0.9999\n",
      "313/313 [==============================] - 1s 2ms/step - loss: 0.1347 - accuracy: 0.9789\n",
      "Train Loss: 0.0002708915271796286, Train Accuracy: 0.9999499917030334\n",
      "Test Loss: 0.1347297728061676, Test Accuracy: 0.9789000153541565\n",
      "============================================================\n",
      "\n",
      "============================================================\n",
      "Iteration : 3\n",
      "1875/1875 [==============================] - 3s 1ms/step - loss: 3.0560e-04 - accuracy: 0.9999\n",
      "313/313 [==============================] - 1s 2ms/step - loss: 0.1593 - accuracy: 0.9797\n",
      "Train Loss: 0.0003055972047150135, Train Accuracy: 0.9999333620071411\n",
      "Test Loss: 0.15933963656425476, Test Accuracy: 0.9797000288963318\n",
      "============================================================\n",
      "\n",
      "============================================================\n",
      "Iteration : 4\n",
      "1875/1875 [==============================] - 3s 2ms/step - loss: 9.3632e-04 - accuracy: 0.9996\n",
      "313/313 [==============================] - 1s 2ms/step - loss: 0.1633 - accuracy: 0.9798\n",
      "Train Loss: 0.0009363227291032672, Train Accuracy: 0.9995999932289124\n",
      "Test Loss: 0.16331304609775543, Test Accuracy: 0.9797999858856201\n",
      "============================================================\n",
      "\n",
      "============================================================\n",
      "Iteration : 5\n",
      "1875/1875 [==============================] - 3s 1ms/step - loss: 0.0016 - accuracy: 0.9995\n",
      "313/313 [==============================] - 1s 2ms/step - loss: 0.1665 - accuracy: 0.9796\n",
      "Train Loss: 0.0016033275751397014, Train Accuracy: 0.9994999766349792\n",
      "Test Loss: 0.16647639870643616, Test Accuracy: 0.9796000123023987\n",
      "============================================================\n",
      "\n",
      "============================================================\n",
      "Iteration : 6\n",
      "1875/1875 [==============================] - 3s 1ms/step - loss: 2.0878e-05 - accuracy: 1.0000\n",
      "313/313 [==============================] - 1s 2ms/step - loss: 0.1880 - accuracy: 0.9809\n",
      "Train Loss: 2.0878484065178782e-05, Train Accuracy: 0.9999833106994629\n",
      "Test Loss: 0.1880183219909668, Test Accuracy: 0.98089998960495\n",
      "============================================================\n",
      "\n",
      "============================================================\n",
      "Iteration : 7\n",
      "1875/1875 [==============================] - 3s 1ms/step - loss: 3.0650e-04 - accuracy: 0.9999\n",
      "313/313 [==============================] - 1s 2ms/step - loss: 0.2163 - accuracy: 0.9808\n",
      "Train Loss: 0.00030650297412648797, Train Accuracy: 0.9998999834060669\n",
      "Test Loss: 0.21630896627902985, Test Accuracy: 0.9807999730110168\n",
      "============================================================\n",
      "\n",
      "============================================================\n",
      "Iteration : 8\n",
      "1875/1875 [==============================] - 3s 1ms/step - loss: 4.0867e-05 - accuracy: 1.0000\n",
      "313/313 [==============================] - 1s 2ms/step - loss: 0.2197 - accuracy: 0.9826\n",
      "Train Loss: 4.086694389116019e-05, Train Accuracy: 0.9999833106994629\n",
      "Test Loss: 0.21968163549900055, Test Accuracy: 0.9825999736785889\n",
      "============================================================\n",
      "\n",
      "============================================================\n",
      "Iteration : 9\n",
      "1875/1875 [==============================] - 3s 1ms/step - loss: 1.3487e-04 - accuracy: 1.0000\n",
      "313/313 [==============================] - 1s 2ms/step - loss: 0.2386 - accuracy: 0.9812\n",
      "Train Loss: 0.00013486944953911006, Train Accuracy: 0.9999666810035706\n",
      "Test Loss: 0.2385774701833725, Test Accuracy: 0.9811999797821045\n",
      "============================================================\n",
      "\n",
      "============================================================\n",
      "Iteration : 10\n",
      "1875/1875 [==============================] - 3s 1ms/step - loss: 3.5380e-04 - accuracy: 0.9999\n",
      "313/313 [==============================] - 1s 2ms/step - loss: 0.2540 - accuracy: 0.9819\n",
      "Train Loss: 0.00035379649489186704, Train Accuracy: 0.9998999834060669\n",
      "Test Loss: 0.2540028989315033, Test Accuracy: 0.9818999767303467\n",
      "============================================================\n",
      "\n"
     ]
    }
   ],
   "source": [
    "for i in range(10) :\n",
    "    print(\"============================================================\")\n",
    "    print(\"Iteration :\", i+1)\n",
    "    batch_size = 512\n",
    "    epochs=50\n",
    "    model.fit(x=x_train, y=y_train, batch_size=batch_size, epochs=epochs, verbose=0)\n",
    "    train_loss, train_acc = model.evaluate(x_train, y_train)\n",
    "    test_loss, test_acc = model.evaluate(x_test, y_test)\n",
    "    print(\"Train Loss: {}, Train Accuracy: {}\".format(train_loss, train_acc))\n",
    "    print(\"Test Loss: {}, Test Accuracy: {}\".format(test_loss, test_acc))\n",
    "    print(\"============================================================\")\n",
    "    print()"
   ]
  },
  {
   "cell_type": "markdown",
   "id": "cf88be52",
   "metadata": {
    "papermill": {
     "duration": 0.072507,
     "end_time": "2022-06-11T04:42:35.142189",
     "exception": false,
     "start_time": "2022-06-11T04:42:35.069682",
     "status": "completed"
    },
    "tags": []
   },
   "source": [
    "# Results"
   ]
  },
  {
   "cell_type": "code",
   "execution_count": 12,
   "id": "4dd1fa1a",
   "metadata": {
    "execution": {
     "iopub.execute_input": "2022-06-11T04:42:35.283838Z",
     "iopub.status.busy": "2022-06-11T04:42:35.283471Z",
     "iopub.status.idle": "2022-06-11T04:42:35.734049Z",
     "shell.execute_reply": "2022-06-11T04:42:35.733159Z"
    },
    "papermill": {
     "duration": 0.524028,
     "end_time": "2022-06-11T04:42:35.736399",
     "exception": false,
     "start_time": "2022-06-11T04:42:35.212371",
     "status": "completed"
    },
    "tags": []
   },
   "outputs": [
    {
     "name": "stdout",
     "output_type": "stream",
     "text": [
      "Pred Classes : [7 2 1 ... 4 5 6]\n",
      "Length : 10000\n"
     ]
    }
   ],
   "source": [
    "y_pred = model.predict(x_test)\n",
    "y_pred_classes = np.argmax(y_pred, axis=1)\n",
    "print(\"Pred Classes :\", y_pred_classes)\n",
    "print(\"Length :\", len(y_pred_classes))"
   ]
  },
  {
   "cell_type": "code",
   "execution_count": 13,
   "id": "0fd428f0",
   "metadata": {
    "execution": {
     "iopub.execute_input": "2022-06-11T04:42:35.878352Z",
     "iopub.status.busy": "2022-06-11T04:42:35.877293Z",
     "iopub.status.idle": "2022-06-11T04:42:36.042687Z",
     "shell.execute_reply": "2022-06-11T04:42:36.041718Z"
    },
    "papermill": {
     "duration": 0.238626,
     "end_time": "2022-06-11T04:42:36.044753",
     "exception": false,
     "start_time": "2022-06-11T04:42:35.806127",
     "status": "completed"
    },
    "tags": []
   },
   "outputs": [
    {
     "data": {
      "text/plain": [
       "<matplotlib.image.AxesImage at 0x7fe4012b5b10>"
      ]
     },
     "execution_count": 13,
     "metadata": {},
     "output_type": "execute_result"
    },
    {
     "data": {
      "image/png": "[encoded data removed]",
      "text/plain": [
       "<Figure size 432x288 with 1 Axes>"
      ]
     },
     "metadata": {
      "needs_background": "light"
     },
     "output_type": "display_data"
    }
   ],
   "source": [
    "random_idx = np.random.choice(len(x_test))\n",
    "x_sample = x_test[random_idx]\n",
    "y_true = np.argmax(y_test, axis=1)\n",
    "y_sample_true = y_true[random_idx]\n",
    "y_sample_pred_class = y_pred_classes[random_idx]\n",
    "\n",
    "plt.title(\"Predicted: {}, True: {}\".format(y_sample_pred_class, y_sample_true), fontsize=16)\n",
    "plt.imshow(x_sample.reshape(28, 28), cmap='gray')"
   ]
  },
  {
   "cell_type": "code",
   "execution_count": 14,
   "id": "153b6b74",
   "metadata": {
    "execution": {
     "iopub.execute_input": "2022-06-11T04:42:36.188481Z",
     "iopub.status.busy": "2022-06-11T04:42:36.188026Z",
     "iopub.status.idle": "2022-06-11T04:42:36.717134Z",
     "shell.execute_reply": "2022-06-11T04:42:36.715842Z"
    },
    "papermill": {
     "duration": 0.603264,
     "end_time": "2022-06-11T04:42:36.719292",
     "exception": false,
     "start_time": "2022-06-11T04:42:36.116028",
     "status": "completed"
    },
    "tags": []
   },
   "outputs": [
    {
     "data": {
      "image/png": "[encoded data removed]",
      "text/plain": [
       "<Figure size 1080x720 with 2 Axes>"
      ]
     },
     "metadata": {
      "needs_background": "light"
     },
     "output_type": "display_data"
    }
   ],
   "source": [
    "confusion_mtx = confusion_matrix(y_true, y_pred_classes)\n",
    "\n",
    "fig, ax = plt.subplots(figsize=(15,10))\n",
    "ax = sns.heatmap(confusion_mtx, annot=True, fmt='d', ax=ax, cmap=\"Purples\")\n",
    "ax.set_xlabel('Predicted Label')\n",
    "ax.set_ylabel('True Label')\n",
    "ax.set_title('Confusion Matrix');"
   ]
  },
  {
   "cell_type": "code",
   "execution_count": 15,
   "id": "c90d42fa",
   "metadata": {
    "execution": {
     "iopub.execute_input": "2022-06-11T04:42:36.864099Z",
     "iopub.status.busy": "2022-06-11T04:42:36.863499Z",
     "iopub.status.idle": "2022-06-11T04:42:37.675982Z",
     "shell.execute_reply": "2022-06-11T04:42:37.675161Z"
    },
    "papermill": {
     "duration": 0.887219,
     "end_time": "2022-06-11T04:42:37.677798",
     "exception": false,
     "start_time": "2022-06-11T04:42:36.790579",
     "status": "completed"
    },
    "tags": []
   },
   "outputs": [
    {
     "data": {
      "image/png": "[encoded data removed]",
      "text/plain": [
       "<Figure size 2160x2160 with 5 Axes>"
      ]
     },
     "metadata": {
      "needs_background": "light"
     },
     "output_type": "display_data"
    }
   ],
   "source": [
    "errors = (y_pred_classes - y_true != 0)\n",
    "y_pred_classes_errors = y_pred_classes[errors]\n",
    "y_pred_errors = y_pred[errors]\n",
    "y_true_errors = y_true[errors]\n",
    "x_test_errors = x_test[errors]\n",
    "\n",
    "y_pred_errors_probability = np.max(y_pred_errors, axis=1)\n",
    "true_probability_errors = np.diagonal(np.take(y_pred_errors, y_true_errors, axis=1))\n",
    "diff_errors_pred_true = y_pred_errors_probability - true_probability_errors\n",
    "\n",
    "# Get list of indices of sorted differences\n",
    "sorted_idx_diff_errors = np.argsort(diff_errors_pred_true)\n",
    "top_idx_diff_errors = sorted_idx_diff_errors[-5:] # 5 last ones\n",
    "\n",
    "# Show Top Errors\n",
    "num = len(top_idx_diff_errors)\n",
    "f, ax = plt.subplots(1, num, figsize=(30,30))\n",
    "\n",
    "for i in range(0, num):\n",
    "  idx = top_idx_diff_errors[i]\n",
    "  sample = x_test_errors[idx].reshape(28,28)\n",
    "  y_t = y_true_errors[idx]\n",
    "  y_p = y_pred_classes_errors[idx]\n",
    "  ax[i].imshow(sample, cmap='gray')\n",
    "  ax[i].set_title(\"Predicted label :{}\\nTrue label: {}\".format(y_p, y_t), fontsize=22)"
   ]
  }
 ],
 "metadata": {
  "kernelspec": {
   "display_name": "Python 3",
   "language": "python",
   "name": "python3"
  },
  "language_info": {
   "codemirror_mode": {
    "name": "ipython",
    "version": 3
   },
   "file_extension": ".py",
   "mimetype": "text/x-python",
   "name": "python",
   "nbconvert_exporter": "python",
   "pygments_lexer": "ipython3",
   "version": "3.7.12"
  },
  "papermill": {
   "default_parameters": {},
   "duration": 390.866193,
   "end_time": "2022-06-11T04:42:40.666154",
   "environment_variables": {},
   "exception": null,
   "input_path": "__notebook__.ipynb",
   "output_path": "__notebook__.ipynb",
   "parameters": {},
   "start_time": "2022-06-11T04:36:09.799961",
   "version": "2.3.4"
  }
 },
 "nbformat": 4,
 "nbformat_minor": 5
}
