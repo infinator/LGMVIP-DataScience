{
 "cells": [
  {
   "cell_type": "markdown",
   "id": "34c45a1f",
   "metadata": {
    "papermill": {
     "duration": 0.006604,
     "end_time": "2022-06-14T16:09:02.322568",
     "exception": false,
     "start_time": "2022-06-14T16:09:02.315964",
     "status": "completed"
    },
    "tags": []
   },
   "source": [
    "<center><img src = \"https://images.unsplash.com/photo-1581089778245-3ce67677f718?ixlib=rb-1.2.1&ixid=MnwxMjA3fDB8MHxwaG90by1wYWdlfHx8fGVufDB8fHx8&auto=format&fit=crop&w=1170&q=80\"></center>"
   ]
  },
  {
   "cell_type": "markdown",
   "id": "265e341d",
   "metadata": {
    "papermill": {
     "duration": 0.008404,
     "end_time": "2022-06-14T16:09:02.336781",
     "exception": false,
     "start_time": "2022-06-14T16:09:02.328377",
     "status": "completed"
    },
    "tags": []
   },
   "source": [
    "<center><h1>➗ Handwritten Equation Solver ➗</h1></center>"
   ]
  },
  {
   "cell_type": "markdown",
   "id": "52b06d83",
   "metadata": {
    "papermill": {
     "duration": 0.008939,
     "end_time": "2022-06-14T16:09:02.355225",
     "exception": false,
     "start_time": "2022-06-14T16:09:02.346286",
     "status": "completed"
    },
    "tags": []
   },
   "source": [
    "# Loading Libraries"
   ]
  },
  {
   "cell_type": "code",
   "execution_count": 1,
   "id": "0b36daa1",
   "metadata": {
    "execution": {
     "iopub.execute_input": "2022-06-14T16:09:02.375875Z",
     "iopub.status.busy": "2022-06-14T16:09:02.375359Z",
     "iopub.status.idle": "2022-06-14T16:09:07.920733Z",
     "shell.execute_reply": "2022-06-14T16:09:07.919085Z"
    },
    "papermill": {
     "duration": 5.559084,
     "end_time": "2022-06-14T16:09:07.923704",
     "exception": false,
     "start_time": "2022-06-14T16:09:02.364620",
     "status": "completed"
    },
    "tags": []
   },
   "outputs": [
    {
     "name": "stdout",
     "output_type": "stream",
     "text": [
      "Loading...\n",
      "Done\n"
     ]
    }
   ],
   "source": [
    "print(\"Loading...\")\n",
    "\n",
    "# common libraries\n",
    "import numpy as np\n",
    "import pandas as pd\n",
    "from matplotlib import pyplot as plt\n",
    "import matplotlib.image as mpimg\n",
    "%matplotlib inline\n",
    "import os\n",
    "from os import listdir\n",
    "from os.path import isfile, join\n",
    "\n",
    "# CV and Image\n",
    "import cv2\n",
    "from PIL import Image\n",
    "\n",
    "# pickle\n",
    "import pickle\n",
    "\n",
    "# keras\n",
    "import keras\n",
    "from keras import optimizers\n",
    "from keras import backend as K\n",
    "from keras.models import Model, Sequential, load_model\n",
    "from keras.layers import *\n",
    "from keras.layers import Input, Dense, Dropout, Flatten\n",
    "from keras.utils import np_utils\n",
    "from keras.layers.convolutional import Conv2D, MaxPooling2D\n",
    "from keras.utils.np_utils import to_categorical\n",
    "from keras.utils.vis_utils import plot_model\n",
    "from tensorflow.keras.callbacks import ModelCheckpoint\n",
    "from tensorflow.keras.optimizers import Adam\n",
    "K.image_data_format()\n",
    "\n",
    "print(\"Done\")"
   ]
  },
  {
   "cell_type": "markdown",
   "id": "9279ab0c",
   "metadata": {
    "papermill": {
     "duration": 0.005879,
     "end_time": "2022-06-14T16:09:07.935993",
     "exception": false,
     "start_time": "2022-06-14T16:09:07.930114",
     "status": "completed"
    },
    "tags": []
   },
   "source": [
    "# Creating Data"
   ]
  },
  {
   "cell_type": "code",
   "execution_count": 2,
   "id": "45b60845",
   "metadata": {
    "execution": {
     "iopub.execute_input": "2022-06-14T16:09:07.948794Z",
     "iopub.status.busy": "2022-06-14T16:09:07.948294Z",
     "iopub.status.idle": "2022-06-14T16:09:07.960523Z",
     "shell.execute_reply": "2022-06-14T16:09:07.958953Z"
    },
    "papermill": {
     "duration": 0.020942,
     "end_time": "2022-06-14T16:09:07.962761",
     "exception": false,
     "start_time": "2022-06-14T16:09:07.941819",
     "status": "completed"
    },
    "tags": []
   },
   "outputs": [
    {
     "name": "stdout",
     "output_type": "stream",
     "text": [
      "These are the folders we'll be working with :\n",
      "!\n",
      "(\n",
      ")\n",
      "+\n",
      ",\n",
      "-\n",
      "0\n",
      "1\n",
      "2\n",
      "3\n",
      "4\n",
      "5\n",
      "6\n",
      "7\n",
      "8\n",
      "9\n",
      "=\n",
      "A\n",
      "alpha\n",
      "ascii_124\n",
      "b\n",
      "beta\n",
      "C\n",
      "cos\n",
      "d\n",
      "Delta\n",
      "div\n",
      "e\n",
      "exists\n",
      "f\n",
      "forall\n",
      "forward_slash\n",
      "G\n",
      "gamma\n",
      "geq\n",
      "gt\n",
      "H\n",
      "i\n",
      "in\n",
      "infty\n",
      "int\n",
      "j\n",
      "k\n",
      "l\n",
      "lambda\n",
      "ldots\n",
      "leq\n",
      "lim\n",
      "log\n",
      "lt\n",
      "M\n",
      "mu\n",
      "N\n",
      "neq\n",
      "o\n",
      "p\n",
      "phi\n",
      "pi\n",
      "pm\n",
      "prime\n",
      "q\n",
      "R\n",
      "rightarrow\n",
      "S\n",
      "sigma\n",
      "sin\n",
      "sqrt\n",
      "sum\n",
      "T\n",
      "tan\n",
      "theta\n",
      "times\n",
      "u\n",
      "v\n",
      "w\n",
      "X\n",
      "y\n",
      "z\n",
      "[\n",
      "]\n",
      "{\n",
      "}\n"
     ]
    }
   ],
   "source": [
    "p = \"C:/Users/PVG HD/Downloads/extracted_images/\"\n",
    "\n",
    "print(\"These are the folders we'll be working with :\")\n",
    "\n",
    "for f in os.listdir(p):\n",
    "    print(f)"
   ]
  },
  {
   "cell_type": "code",
   "execution_count": 3,
   "id": "be087b0c",
   "metadata": {
    "execution": {
     "iopub.execute_input": "2022-06-14T16:09:07.976002Z",
     "iopub.status.busy": "2022-06-14T16:09:07.975731Z",
     "iopub.status.idle": "2022-06-14T16:09:07.985173Z",
     "shell.execute_reply": "2022-06-14T16:09:07.984495Z"
    },
    "papermill": {
     "duration": 0.017644,
     "end_time": "2022-06-14T16:09:07.986789",
     "exception": false,
     "start_time": "2022-06-14T16:09:07.969145",
     "status": "completed"
    },
    "tags": []
   },
   "outputs": [],
   "source": [
    "def load_images(folder):\n",
    "    \n",
    "    train_data=[]\n",
    "    \n",
    "    for filename in os.listdir(folder):\n",
    "        \n",
    "        if filename != \".directory\" :\n",
    "\n",
    "            image = cv2.imread(os.path.join(folder,filename),cv2.IMREAD_GRAYSCALE)\n",
    "            image = ~image\n",
    "\n",
    "            if image is not None:\n",
    "\n",
    "                ret, thresh = cv2.threshold(image,127,255,cv2.THRESH_BINARY)\n",
    "                contours, hierarchy = cv2.findContours(thresh,cv2.RETR_EXTERNAL,cv2.CHAIN_APPROX_NONE)\n",
    "                contour = sorted(contours, key = lambda ctr: cv2.boundingRect(ctr)[0])\n",
    "\n",
    "                a = int(28)\n",
    "                b = int(28)\n",
    "                maxi = 0\n",
    "\n",
    "                for c in contour:\n",
    "\n",
    "                    x,y,a,b=cv2.boundingRect(c)\n",
    "                    maxi=max(a*b,maxi)\n",
    "\n",
    "                    if maxi==a*b:\n",
    "\n",
    "                        x_max=x\n",
    "                        y_max=y\n",
    "                        w_max=a\n",
    "                        h_max=b\n",
    "\n",
    "                im_crop = thresh[y_max:y_max+h_max+10, x_max:x_max+w_max+10]\n",
    "                im_resize = cv2.resize(im_crop,(28,28))\n",
    "                im_resize = np.reshape(im_resize,(784,1))\n",
    "                train_data.append(im_resize)\n",
    "            \n",
    "    return train_data"
   ]
  },
  {
   "cell_type": "markdown",
   "id": "e9827f04",
   "metadata": {
    "papermill": {
     "duration": 0.006002,
     "end_time": "2022-06-14T16:09:07.999015",
     "exception": false,
     "start_time": "2022-06-14T16:09:07.993013",
     "status": "completed"
    },
    "tags": []
   },
   "source": [
    "# Concatenating Data of All Characters"
   ]
  },
  {
   "cell_type": "code",
   "execution_count": 13,
   "id": "7aebc318",
   "metadata": {
    "execution": {
     "iopub.execute_input": "2022-06-14T16:09:08.011925Z",
     "iopub.status.busy": "2022-06-14T16:09:08.011380Z",
     "iopub.status.idle": "2022-06-14T16:09:11.261784Z",
     "shell.execute_reply": "2022-06-14T16:09:11.260443Z"
    },
    "papermill": {
     "duration": 3.259072,
     "end_time": "2022-06-14T16:09:11.264045",
     "exception": false,
     "start_time": "2022-06-14T16:09:08.004973",
     "status": "completed"
    },
    "tags": []
   },
   "outputs": [
    {
     "name": "stdout",
     "output_type": "stream",
     "text": [
      "6914\n"
     ]
    }
   ],
   "source": [
    "data = []\n",
    "\n",
    "data = load_images(p+\"0\")\n",
    "for i in range(0, len(data)) :\n",
    "    data[i] = np.append(data[i], ['0'])\n",
    "print(len(data))"
   ]
  },
  {
   "cell_type": "code",
   "execution_count": 14,
   "id": "455a9cb0",
   "metadata": {},
   "outputs": [
    {
     "name": "stdout",
     "output_type": "stream",
     "text": [
      "Iter : 0\n",
      "Working with the + folder\n",
      "32026\n",
      "\n",
      "Iter : 1\n",
      "Working with the - folder\n",
      "66023\n",
      "\n",
      "Iter : 2\n",
      "Working with the 1 folder\n",
      "92543\n",
      "\n",
      "Iter : 3\n",
      "Working with the 2 folder\n",
      "118684\n",
      "\n",
      "Iter : 4\n",
      "Working with the 3 folder\n",
      "129593\n",
      "\n",
      "Iter : 5\n",
      "Working with the 4 folder\n",
      "136989\n",
      "\n",
      "Iter : 6\n",
      "Working with the 5 folder\n",
      "140534\n",
      "\n",
      "Iter : 7\n",
      "Working with the 6 folder\n",
      "143652\n",
      "\n",
      "Iter : 8\n",
      "Working with the 7 folder\n",
      "146561\n",
      "\n",
      "Iter : 9\n",
      "Working with the 8 folder\n",
      "149629\n",
      "\n",
      "Iter : 10\n",
      "Working with the 9 folder\n",
      "153366\n",
      "\n",
      "Iter : 11\n",
      "Working with the = folder\n",
      "166470\n",
      "\n",
      "Iter : 12\n",
      "Working with the div folder\n",
      "167338\n",
      "\n",
      "Iter : 13\n",
      "Working with the times folder\n",
      "170589\n",
      "\n"
     ]
    }
   ],
   "source": [
    "iter = 0\n",
    "\n",
    "for i in list(os.listdir(p)) :\n",
    "    \n",
    "    if i in [str(l) for l in range(1, 10)]+[\"+\", \"-\", \"times\", \"div\", \"=\"] :\n",
    "    \n",
    "        print(\"Iter :\", iter)\n",
    "        print(\"Working with the\", i, \"folder\")\n",
    "\n",
    "        data_i = load_images(p+i)\n",
    "\n",
    "        if i in [str(k) for k in range(1, 10)] :\n",
    "\n",
    "            for j in range(0, len(data_i)):\n",
    "                data_i[j] = np.append(data_i[j], [i])\n",
    "            data = np.concatenate((data, data_i))\n",
    "            print(len(data))\n",
    "\n",
    "        if i == \"+\" :\n",
    "\n",
    "            for j in range(0, len(data_i)):\n",
    "                data_i[j] = np.append(data_i[j], [\"10\"])\n",
    "            data = np.concatenate((data, data_i))\n",
    "            print(len(data))\n",
    "\n",
    "        if i == \"-\" :\n",
    "\n",
    "            for j in range(0, len(data_i)):\n",
    "                data_i[j] = np.append(data_i[j], [\"11\"])\n",
    "            data = np.concatenate((data, data_i))\n",
    "            print(len(data))\n",
    "\n",
    "\n",
    "        if i == \"times\" :\n",
    "\n",
    "            for j in range(0, len(data_i)):\n",
    "                data_i[j] = np.append(data_i[j], [\"12\"])\n",
    "            data = np.concatenate((data, data_i))\n",
    "            print(len(data))\n",
    "\n",
    "        if i == \"div\" :\n",
    "\n",
    "            for j in range(0, len(data_i)):\n",
    "                data_i[j] = np.append(data_i[j], [\"13\"])\n",
    "            data = np.concatenate((data, data_i))\n",
    "            print(len(data))\n",
    "\n",
    "        if i == \"=\" :\n",
    "\n",
    "            for j in range(0, len(data_i)):\n",
    "                data_i[j] = np.append(data_i[j], [\"14\"])\n",
    "            data = np.concatenate((data, data_i))\n",
    "            print(len(data))                \n",
    "\n",
    "        print()\n",
    "\n",
    "        iter += 1"
   ]
  },
  {
   "cell_type": "markdown",
   "id": "b98830d6",
   "metadata": {
    "papermill": {
     "duration": 0.006887,
     "end_time": "2022-06-14T16:10:05.961460",
     "exception": false,
     "start_time": "2022-06-14T16:10:05.954573",
     "status": "completed"
    },
    "tags": []
   },
   "source": [
    "# Creating Training set"
   ]
  },
  {
   "cell_type": "code",
   "execution_count": 15,
   "id": "f599bbca",
   "metadata": {
    "execution": {
     "iopub.execute_input": "2022-06-14T16:10:05.976920Z",
     "iopub.status.busy": "2022-06-14T16:10:05.976257Z",
     "iopub.status.idle": "2022-06-14T16:10:08.717539Z",
     "shell.execute_reply": "2022-06-14T16:10:08.716800Z"
    },
    "papermill": {
     "duration": 2.751058,
     "end_time": "2022-06-14T16:10:08.719487",
     "exception": false,
     "start_time": "2022-06-14T16:10:05.968429",
     "status": "completed"
    },
    "tags": []
   },
   "outputs": [
    {
     "data": {
      "text/html": [
       "<div>\n",
       "<style scoped>\n",
       "    .dataframe tbody tr th:only-of-type {\n",
       "        vertical-align: middle;\n",
       "    }\n",
       "\n",
       "    .dataframe tbody tr th {\n",
       "        vertical-align: top;\n",
       "    }\n",
       "\n",
       "    .dataframe thead th {\n",
       "        text-align: right;\n",
       "    }\n",
       "</style>\n",
       "<table border=\"1\" class=\"dataframe\">\n",
       "  <thead>\n",
       "    <tr style=\"text-align: right;\">\n",
       "      <th></th>\n",
       "      <th>0</th>\n",
       "      <th>1</th>\n",
       "      <th>2</th>\n",
       "      <th>3</th>\n",
       "      <th>4</th>\n",
       "      <th>5</th>\n",
       "      <th>6</th>\n",
       "      <th>7</th>\n",
       "      <th>8</th>\n",
       "      <th>9</th>\n",
       "      <th>...</th>\n",
       "      <th>774</th>\n",
       "      <th>775</th>\n",
       "      <th>776</th>\n",
       "      <th>777</th>\n",
       "      <th>778</th>\n",
       "      <th>779</th>\n",
       "      <th>780</th>\n",
       "      <th>781</th>\n",
       "      <th>782</th>\n",
       "      <th>783</th>\n",
       "    </tr>\n",
       "  </thead>\n",
       "  <tbody>\n",
       "    <tr>\n",
       "      <th>0</th>\n",
       "      <td>0</td>\n",
       "      <td>0</td>\n",
       "      <td>0</td>\n",
       "      <td>0</td>\n",
       "      <td>0</td>\n",
       "      <td>0</td>\n",
       "      <td>100</td>\n",
       "      <td>208</td>\n",
       "      <td>178</td>\n",
       "      <td>178</td>\n",
       "      <td>...</td>\n",
       "      <td>0</td>\n",
       "      <td>0</td>\n",
       "      <td>0</td>\n",
       "      <td>0</td>\n",
       "      <td>0</td>\n",
       "      <td>0</td>\n",
       "      <td>0</td>\n",
       "      <td>0</td>\n",
       "      <td>0</td>\n",
       "      <td>0</td>\n",
       "    </tr>\n",
       "    <tr>\n",
       "      <th>1</th>\n",
       "      <td>0</td>\n",
       "      <td>0</td>\n",
       "      <td>136</td>\n",
       "      <td>255</td>\n",
       "      <td>180</td>\n",
       "      <td>191</td>\n",
       "      <td>185</td>\n",
       "      <td>77</td>\n",
       "      <td>14</td>\n",
       "      <td>0</td>\n",
       "      <td>...</td>\n",
       "      <td>0</td>\n",
       "      <td>0</td>\n",
       "      <td>0</td>\n",
       "      <td>0</td>\n",
       "      <td>0</td>\n",
       "      <td>0</td>\n",
       "      <td>0</td>\n",
       "      <td>0</td>\n",
       "      <td>0</td>\n",
       "      <td>0</td>\n",
       "    </tr>\n",
       "    <tr>\n",
       "      <th>2</th>\n",
       "      <td>0</td>\n",
       "      <td>123</td>\n",
       "      <td>193</td>\n",
       "      <td>178</td>\n",
       "      <td>178</td>\n",
       "      <td>178</td>\n",
       "      <td>178</td>\n",
       "      <td>178</td>\n",
       "      <td>178</td>\n",
       "      <td>178</td>\n",
       "      <td>...</td>\n",
       "      <td>0</td>\n",
       "      <td>0</td>\n",
       "      <td>0</td>\n",
       "      <td>0</td>\n",
       "      <td>0</td>\n",
       "      <td>0</td>\n",
       "      <td>0</td>\n",
       "      <td>0</td>\n",
       "      <td>0</td>\n",
       "      <td>0</td>\n",
       "    </tr>\n",
       "    <tr>\n",
       "      <th>3</th>\n",
       "      <td>0</td>\n",
       "      <td>0</td>\n",
       "      <td>0</td>\n",
       "      <td>0</td>\n",
       "      <td>0</td>\n",
       "      <td>0</td>\n",
       "      <td>36</td>\n",
       "      <td>77</td>\n",
       "      <td>138</td>\n",
       "      <td>178</td>\n",
       "      <td>...</td>\n",
       "      <td>0</td>\n",
       "      <td>0</td>\n",
       "      <td>0</td>\n",
       "      <td>0</td>\n",
       "      <td>0</td>\n",
       "      <td>0</td>\n",
       "      <td>0</td>\n",
       "      <td>0</td>\n",
       "      <td>0</td>\n",
       "      <td>0</td>\n",
       "    </tr>\n",
       "    <tr>\n",
       "      <th>4</th>\n",
       "      <td>0</td>\n",
       "      <td>0</td>\n",
       "      <td>0</td>\n",
       "      <td>0</td>\n",
       "      <td>165</td>\n",
       "      <td>178</td>\n",
       "      <td>178</td>\n",
       "      <td>178</td>\n",
       "      <td>113</td>\n",
       "      <td>0</td>\n",
       "      <td>...</td>\n",
       "      <td>18</td>\n",
       "      <td>0</td>\n",
       "      <td>0</td>\n",
       "      <td>0</td>\n",
       "      <td>0</td>\n",
       "      <td>0</td>\n",
       "      <td>0</td>\n",
       "      <td>0</td>\n",
       "      <td>0</td>\n",
       "      <td>0</td>\n",
       "    </tr>\n",
       "  </tbody>\n",
       "</table>\n",
       "<p>5 rows × 784 columns</p>\n",
       "</div>"
      ],
      "text/plain": [
       "   0    1    2    3    4    5    6    7    8    9  ...  774  775  776  777  \\\n",
       "0  0    0    0    0    0    0  100  208  178  178  ...    0    0    0    0   \n",
       "1  0    0  136  255  180  191  185   77   14    0  ...    0    0    0    0   \n",
       "2  0  123  193  178  178  178  178  178  178  178  ...    0    0    0    0   \n",
       "3  0    0    0    0    0    0   36   77  138  178  ...    0    0    0    0   \n",
       "4  0    0    0    0  165  178  178  178  113    0  ...   18    0    0    0   \n",
       "\n",
       "   778  779  780  781  782  783  \n",
       "0    0    0    0    0    0    0  \n",
       "1    0    0    0    0    0    0  \n",
       "2    0    0    0    0    0    0  \n",
       "3    0    0    0    0    0    0  \n",
       "4    0    0    0    0    0    0  \n",
       "\n",
       "[5 rows x 784 columns]"
      ]
     },
     "execution_count": 15,
     "metadata": {},
     "output_type": "execute_result"
    }
   ],
   "source": [
    "df=pd.DataFrame(data,index=None)\n",
    "df.to_csv('train_handwritten.csv',index=False)\n",
    "\n",
    "data = pd.read_csv('train_handwritten.csv',index_col=False)\n",
    "labels = data[['784']]\n",
    "\n",
    "data.drop(data.columns[[784]],axis=1,inplace=True)\n",
    "data.head()"
   ]
  },
  {
   "cell_type": "code",
   "execution_count": 16,
   "id": "c9acef3c",
   "metadata": {
    "execution": {
     "iopub.execute_input": "2022-06-14T16:10:08.735498Z",
     "iopub.status.busy": "2022-06-14T16:10:08.735228Z",
     "iopub.status.idle": "2022-06-14T16:10:08.742302Z",
     "shell.execute_reply": "2022-06-14T16:10:08.741466Z"
    },
    "papermill": {
     "duration": 0.016821,
     "end_time": "2022-06-14T16:10:08.743928",
     "exception": false,
     "start_time": "2022-06-14T16:10:08.727107",
     "status": "completed"
    },
    "tags": []
   },
   "outputs": [
    {
     "data": {
      "text/plain": [
       "array([1., 0., 0., 0., 0., 0., 0., 0., 0., 0., 0., 0., 0., 0., 0.],\n",
       "      dtype=float32)"
      ]
     },
     "execution_count": 16,
     "metadata": {},
     "output_type": "execute_result"
    }
   ],
   "source": [
    "np.random.seed(1212)\n",
    "labels=np.array(labels)\n",
    "cat=to_categorical(labels,num_classes=15)\n",
    "cat[0]"
   ]
  },
  {
   "cell_type": "code",
   "execution_count": 17,
   "id": "f00fb78b",
   "metadata": {
    "execution": {
     "iopub.execute_input": "2022-06-14T16:10:08.759534Z",
     "iopub.status.busy": "2022-06-14T16:10:08.759248Z",
     "iopub.status.idle": "2022-06-14T16:10:08.764973Z",
     "shell.execute_reply": "2022-06-14T16:10:08.764294Z"
    },
    "papermill": {
     "duration": 0.015259,
     "end_time": "2022-06-14T16:10:08.766540",
     "exception": false,
     "start_time": "2022-06-14T16:10:08.751281",
     "status": "completed"
    },
    "tags": []
   },
   "outputs": [
    {
     "data": {
      "text/plain": [
       "(170589, 28, 28, 1)"
      ]
     },
     "execution_count": 17,
     "metadata": {},
     "output_type": "execute_result"
    }
   ],
   "source": [
    "temp=data.to_numpy()\n",
    "X_train = temp.reshape(temp.shape[0], 28, 28, 1)\n",
    "X_train.shape"
   ]
  },
  {
   "cell_type": "code",
   "execution_count": 18,
   "id": "3902b690",
   "metadata": {
    "execution": {
     "iopub.execute_input": "2022-06-14T16:10:08.782470Z",
     "iopub.status.busy": "2022-06-14T16:10:08.781907Z",
     "iopub.status.idle": "2022-06-14T16:10:09.194946Z",
     "shell.execute_reply": "2022-06-14T16:10:09.194070Z"
    },
    "papermill": {
     "duration": 0.423134,
     "end_time": "2022-06-14T16:10:09.197016",
     "exception": false,
     "start_time": "2022-06-14T16:10:08.773882",
     "status": "completed"
    },
    "tags": []
   },
   "outputs": [],
   "source": [
    "l=[]\n",
    "for i in range(X_train.shape[0]):\n",
    "    l.append(np.array(data[i:i+1]).reshape(1,28,28))\n",
    "\n",
    "np.random.seed(7)"
   ]
  },
  {
   "cell_type": "markdown",
   "id": "6a242957",
   "metadata": {
    "papermill": {
     "duration": 0.007252,
     "end_time": "2022-06-14T16:10:09.212064",
     "exception": false,
     "start_time": "2022-06-14T16:10:09.204812",
     "status": "completed"
    },
    "tags": []
   },
   "source": [
    "# Model"
   ]
  },
  {
   "cell_type": "code",
   "execution_count": 19,
   "id": "4d048e55",
   "metadata": {
    "_kg_hide-output": true,
    "execution": {
     "iopub.execute_input": "2022-06-14T16:10:09.227903Z",
     "iopub.status.busy": "2022-06-14T16:10:09.227589Z",
     "iopub.status.idle": "2022-06-14T16:10:12.331616Z",
     "shell.execute_reply": "2022-06-14T16:10:12.330493Z"
    },
    "papermill": {
     "duration": 3.115375,
     "end_time": "2022-06-14T16:10:12.334765",
     "exception": false,
     "start_time": "2022-06-14T16:10:09.219390",
     "status": "completed"
    },
    "tags": []
   },
   "outputs": [],
   "source": [
    "model = Sequential()\n",
    "model.add(Conv2D(32, (3,3), input_shape=(28, 28, 1), activation='relu',padding='same'))\n",
    "model.add(MaxPooling2D(pool_size=(2, 2)))\n",
    "model.add(Conv2D(15, (3, 3), activation='relu'))\n",
    "model.add(MaxPooling2D(pool_size=(2, 2)))\n",
    "model.add(Dropout(0.2))\n",
    "model.add(Flatten())\n",
    "model.add(Dense(128, activation='relu'))\n",
    "model.add(Dense(50, activation='relu'))\n",
    "model.add(Dense(15, activation='softmax'))"
   ]
  },
  {
   "cell_type": "code",
   "execution_count": 20,
   "id": "5cb9fe44",
   "metadata": {
    "execution": {
     "iopub.execute_input": "2022-06-14T16:10:12.360152Z",
     "iopub.status.busy": "2022-06-14T16:10:12.359742Z",
     "iopub.status.idle": "2022-06-14T16:10:12.365545Z",
     "shell.execute_reply": "2022-06-14T16:10:12.364777Z"
    },
    "papermill": {
     "duration": 0.020521,
     "end_time": "2022-06-14T16:10:12.367861",
     "exception": false,
     "start_time": "2022-06-14T16:10:12.347340",
     "status": "completed"
    },
    "tags": []
   },
   "outputs": [
    {
     "name": "stdout",
     "output_type": "stream",
     "text": [
      "Model: \"sequential\"\n",
      "_________________________________________________________________\n",
      " Layer (type)                Output Shape              Param #   \n",
      "=================================================================\n",
      " conv2d (Conv2D)             (None, 28, 28, 32)        320       \n",
      "                                                                 \n",
      " max_pooling2d (MaxPooling2D  (None, 14, 14, 32)       0         \n",
      " )                                                               \n",
      "                                                                 \n",
      " conv2d_1 (Conv2D)           (None, 12, 12, 15)        4335      \n",
      "                                                                 \n",
      " max_pooling2d_1 (MaxPooling  (None, 6, 6, 15)         0         \n",
      " 2D)                                                             \n",
      "                                                                 \n",
      " dropout (Dropout)           (None, 6, 6, 15)          0         \n",
      "                                                                 \n",
      " flatten (Flatten)           (None, 540)               0         \n",
      "                                                                 \n",
      " dense (Dense)               (None, 128)               69248     \n",
      "                                                                 \n",
      " dense_1 (Dense)             (None, 50)                6450      \n",
      "                                                                 \n",
      " dense_2 (Dense)             (None, 15)                765       \n",
      "                                                                 \n",
      "=================================================================\n",
      "Total params: 81,118\n",
      "Trainable params: 81,118\n",
      "Non-trainable params: 0\n",
      "_________________________________________________________________\n"
     ]
    }
   ],
   "source": [
    "model.summary()"
   ]
  },
  {
   "cell_type": "code",
   "execution_count": 25,
   "id": "0eb2b245",
   "metadata": {
    "_kg_hide-output": true,
    "execution": {
     "iopub.execute_input": "2022-06-14T16:10:13.355855Z",
     "iopub.status.busy": "2022-06-14T16:10:13.355098Z",
     "iopub.status.idle": "2022-06-14T16:13:35.989980Z",
     "shell.execute_reply": "2022-06-14T16:13:35.989085Z"
    },
    "papermill": {
     "duration": 202.646984,
     "end_time": "2022-06-14T16:13:35.992011",
     "exception": false,
     "start_time": "2022-06-14T16:10:13.345027",
     "status": "completed"
    },
    "scrolled": true,
    "tags": []
   },
   "outputs": [
    {
     "name": "stdout",
     "output_type": "stream",
     "text": [
      "Epoch 1/10\n",
      "667/667 [==============================] - ETA: 0s - loss: 0.6579 - accuracy: 0.8256\n",
      "Epoch 1: accuracy improved from -inf to 0.82556, saving model to eq_solver.h5\n",
      "667/667 [==============================] - 119s 176ms/step - loss: 0.6579 - accuracy: 0.8256\n",
      "Epoch 2/10\n",
      "667/667 [==============================] - ETA: 0s - loss: 0.2124 - accuracy: 0.9246\n",
      "Epoch 2: accuracy improved from 0.82556 to 0.92462, saving model to eq_solver.h5\n",
      "667/667 [==============================] - 117s 176ms/step - loss: 0.2124 - accuracy: 0.9246\n",
      "Epoch 3/10\n",
      "667/667 [==============================] - ETA: 0s - loss: 0.1708 - accuracy: 0.9376\n",
      "Epoch 3: accuracy improved from 0.92462 to 0.93764, saving model to eq_solver.h5\n",
      "667/667 [==============================] - 115s 172ms/step - loss: 0.1708 - accuracy: 0.9376\n",
      "Epoch 4/10\n",
      "667/667 [==============================] - ETA: 0s - loss: 0.1520 - accuracy: 0.9437\n",
      "Epoch 4: accuracy improved from 0.93764 to 0.94374, saving model to eq_solver.h5\n",
      "667/667 [==============================] - 116s 174ms/step - loss: 0.1520 - accuracy: 0.9437\n",
      "Epoch 5/10\n",
      "667/667 [==============================] - ETA: 0s - loss: 0.1403 - accuracy: 0.9478\n",
      "Epoch 5: accuracy improved from 0.94374 to 0.94784, saving model to eq_solver.h5\n",
      "667/667 [==============================] - 116s 174ms/step - loss: 0.1403 - accuracy: 0.9478\n",
      "Epoch 6/10\n",
      "667/667 [==============================] - ETA: 0s - loss: 0.1321 - accuracy: 0.9506\n",
      "Epoch 6: accuracy improved from 0.94784 to 0.95059, saving model to eq_solver.h5\n",
      "667/667 [==============================] - 114s 171ms/step - loss: 0.1321 - accuracy: 0.9506\n",
      "Epoch 7/10\n",
      "667/667 [==============================] - ETA: 0s - loss: 0.1255 - accuracy: 0.9529\n",
      "Epoch 7: accuracy improved from 0.95059 to 0.95290, saving model to eq_solver.h5\n",
      "667/667 [==============================] - 115s 172ms/step - loss: 0.1255 - accuracy: 0.9529\n",
      "Epoch 8/10\n",
      "667/667 [==============================] - ETA: 0s - loss: 0.1193 - accuracy: 0.9555\n",
      "Epoch 8: accuracy improved from 0.95290 to 0.95550, saving model to eq_solver.h5\n",
      "667/667 [==============================] - 116s 174ms/step - loss: 0.1193 - accuracy: 0.9555\n",
      "Epoch 9/10\n",
      "667/667 [==============================] - ETA: 0s - loss: 0.1129 - accuracy: 0.9571\n",
      "Epoch 9: accuracy improved from 0.95550 to 0.95711, saving model to eq_solver.h5\n",
      "667/667 [==============================] - 118s 177ms/step - loss: 0.1129 - accuracy: 0.9571\n",
      "Epoch 10/10\n",
      "667/667 [==============================] - ETA: 0s - loss: 0.1080 - accuracy: 0.9595\n",
      "Epoch 10: accuracy improved from 0.95711 to 0.95946, saving model to eq_solver.h5\n",
      "667/667 [==============================] - 114s 171ms/step - loss: 0.1080 - accuracy: 0.9595\n"
     ]
    }
   ],
   "source": [
    "checkpoint = ModelCheckpoint(\"eq_solver.h5\", monitor='accuracy', verbose=1, save_best_only=True)\n",
    "model.compile(loss=\"categorical_crossentropy\", optimizer=Adam(learning_rate=0.001), metrics=['accuracy'])\n",
    "nn = model.fit(X_train, cat, epochs=10, batch_size=256, shuffle=True, verbose=1, callbacks=[checkpoint]).history"
   ]
  },
  {
   "cell_type": "code",
   "execution_count": 26,
   "id": "858af3a6",
   "metadata": {
    "execution": {
     "iopub.execute_input": "2022-06-14T16:13:36.711765Z",
     "iopub.status.busy": "2022-06-14T16:13:36.711405Z",
     "iopub.status.idle": "2022-06-14T16:13:36.910284Z",
     "shell.execute_reply": "2022-06-14T16:13:36.909572Z"
    },
    "papermill": {
     "duration": 0.535965,
     "end_time": "2022-06-14T16:13:36.911946",
     "exception": false,
     "start_time": "2022-06-14T16:13:36.375981",
     "status": "completed"
    },
    "tags": []
   },
   "outputs": [
    {
     "data": {
      "text/plain": [
       "<matplotlib.legend.Legend at 0x27640d1e9d0>"
      ]
     },
     "execution_count": 26,
     "metadata": {},
     "output_type": "execute_result"
    },
    {
     "data": {
      "image/png": "[encoded data removed]",
      "text/plain": [
       "<Figure size 432x288 with 1 Axes>"
      ]
     },
     "metadata": {
      "needs_background": "light"
     },
     "output_type": "display_data"
    }
   ],
   "source": [
    "plt.plot(nn['accuracy'])\n",
    "plt.title('model accuracy')\n",
    "plt.ylabel('accuracy')\n",
    "plt.xlabel('epoch')\n",
    "plt.legend(['train_accuracy'], loc='upper right')"
   ]
  },
  {
   "cell_type": "markdown",
   "id": "a48b75de",
   "metadata": {
    "papermill": {
     "duration": 0.33404,
     "end_time": "2022-06-14T16:13:37.577676",
     "exception": false,
     "start_time": "2022-06-14T16:13:37.243636",
     "status": "completed"
    },
    "tags": []
   },
   "source": [
    "# Result"
   ]
  },
  {
   "cell_type": "code",
   "execution_count": 32,
   "id": "30916772",
   "metadata": {
    "execution": {
     "iopub.execute_input": "2022-06-14T16:13:38.283668Z",
     "iopub.status.busy": "2022-06-14T16:13:38.283247Z",
     "iopub.status.idle": "2022-06-14T16:13:38.389624Z",
     "shell.execute_reply": "2022-06-14T16:13:38.388799Z"
    },
    "papermill": {
     "duration": 0.4407,
     "end_time": "2022-06-14T16:13:38.391700",
     "exception": false,
     "start_time": "2022-06-14T16:13:37.951000",
     "status": "completed"
    },
    "tags": []
   },
   "outputs": [],
   "source": [
    "model = load_model(\"eq_solver.h5\")"
   ]
  },
  {
   "cell_type": "code",
   "execution_count": 33,
   "id": "ddec6fa7",
   "metadata": {
    "execution": {
     "iopub.execute_input": "2022-06-14T16:13:39.055793Z",
     "iopub.status.busy": "2022-06-14T16:13:39.055380Z",
     "iopub.status.idle": "2022-06-14T16:13:39.276011Z",
     "shell.execute_reply": "2022-06-14T16:13:39.275310Z"
    },
    "papermill": {
     "duration": 0.553918,
     "end_time": "2022-06-14T16:13:39.277695",
     "exception": false,
     "start_time": "2022-06-14T16:13:38.723777",
     "status": "completed"
    },
    "tags": []
   },
   "outputs": [
    {
     "data": {
      "text/plain": [
       "<matplotlib.image.AxesImage at 0x27640e50d60>"
      ]
     },
     "execution_count": 33,
     "metadata": {},
     "output_type": "execute_result"
    },
    {
     "data": {
      "image/png": "[encoded data removed]",
      "text/plain": [
       "<Figure size 432x288 with 1 Axes>"
      ]
     },
     "metadata": {
      "needs_background": "light"
     },
     "output_type": "display_data"
    }
   ],
   "source": [
    "img = cv2.imread('C:/Users/PVG HD/Downloads/2+2.png',cv2.IMREAD_GRAYSCALE)\n",
    "plt.imshow(img)"
   ]
  },
  {
   "cell_type": "code",
   "execution_count": 34,
   "id": "c83d1d13",
   "metadata": {
    "execution": {
     "iopub.execute_input": "2022-06-14T16:13:40.227682Z",
     "iopub.status.busy": "2022-06-14T16:13:40.227277Z",
     "iopub.status.idle": "2022-06-14T16:13:40.261190Z",
     "shell.execute_reply": "2022-06-14T16:13:40.260290Z"
    },
    "papermill": {
     "duration": 0.408954,
     "end_time": "2022-06-14T16:13:40.263323",
     "exception": false,
     "start_time": "2022-06-14T16:13:39.854369",
     "status": "completed"
    },
    "tags": []
   },
   "outputs": [
    {
     "name": "stdout",
     "output_type": "stream",
     "text": [
      "3\n",
      "0\n",
      "[[74, 77, 235, 265], [335, 143, 153, 137], [584, 51, 225, 306]]\n"
     ]
    }
   ],
   "source": [
    "if img is not None:\n",
    "    img=~img\n",
    "    _,thresh=cv2.threshold(img,127,255,cv2.THRESH_BINARY)\n",
    "    ctrs,_=cv2.findContours(thresh,cv2.RETR_EXTERNAL,cv2.CHAIN_APPROX_NONE)\n",
    "    cnt=sorted(ctrs, key=lambda ctr: cv2.boundingRect(ctr)[0])\n",
    "    w=int(28)\n",
    "    h=int(28)\n",
    "    train_data=[]\n",
    "    print(len(cnt))\n",
    "    rects=[]\n",
    "    for c in cnt :\n",
    "        x,y,w,h= cv2.boundingRect(c)\n",
    "        rect=[x,y,w,h]\n",
    "        rects.append(rect)\n",
    "    bool_rect=[]\n",
    "    for r in rects:\n",
    "        l=[]\n",
    "        for rec in rects:\n",
    "            flag=0\n",
    "            if rec!=r:\n",
    "                if r[0]<(rec[0]+rec[2]+10) and rec[0]<(r[0]+r[2]+10) and r[1]<(rec[1]+rec[3]+10) and rec[1]<(r[1]+r[3]+10):\n",
    "                    flag=1\n",
    "                l.append(flag)\n",
    "            if rec==r:\n",
    "                l.append(0)\n",
    "        bool_rect.append(l)\n",
    "    dump_rect=[]\n",
    "    for i in range(0,len(cnt)):\n",
    "        for j in range(0,len(cnt)):\n",
    "            if bool_rect[i][j]==1:\n",
    "                area1=rects[i][2]*rects[i][3]\n",
    "                area2=rects[j][2]*rects[j][3]\n",
    "                if(area1==min(area1,area2)):\n",
    "                    dump_rect.append(rects[i])\n",
    "    print(len(dump_rect)) \n",
    "    final_rect=[i for i in rects if i not in dump_rect]\n",
    "    print(final_rect)\n",
    "    for r in final_rect:\n",
    "        x=r[0]\n",
    "        y=r[1]\n",
    "        w=r[2]\n",
    "        h=r[3]\n",
    "        im_crop =thresh[y:y+h+10,x:x+w+10]\n",
    "        im_resize = cv2.resize(im_crop,(28,28))\n",
    "        im_resize=np.reshape(im_resize,(28,28,1))\n",
    "        train_data.append(im_resize)"
   ]
  },
  {
   "cell_type": "code",
   "execution_count": 35,
   "id": "2938319d",
   "metadata": {
    "execution": {
     "iopub.execute_input": "2022-06-14T16:13:40.932115Z",
     "iopub.status.busy": "2022-06-14T16:13:40.931764Z",
     "iopub.status.idle": "2022-06-14T16:13:41.129480Z",
     "shell.execute_reply": "2022-06-14T16:13:41.128711Z"
    },
    "papermill": {
     "duration": 0.535104,
     "end_time": "2022-06-14T16:13:41.131339",
     "exception": false,
     "start_time": "2022-06-14T16:13:40.596235",
     "status": "completed"
    },
    "tags": []
   },
   "outputs": [
    {
     "name": "stdout",
     "output_type": "stream",
     "text": [
      "Your Equation : 2+2\n"
     ]
    }
   ],
   "source": [
    "equation=''\n",
    "\n",
    "for i in range(len(train_data)):\n",
    "    \n",
    "    train_data[i]=np.array(train_data[i])\n",
    "    train_data[i]=train_data[i].reshape(1,28,28,1)\n",
    "    result=np.argmax(model.predict(train_data[i]), axis=-1)\n",
    "        \n",
    "    for j in range(10) :\n",
    "        if result[0] == j :\n",
    "            equation = equation + str(j)\n",
    "    \n",
    "    if result[0] == 10 :\n",
    "        equation = equation + \"+\"\n",
    "    if result[0] == 11 :\n",
    "        equation = equation + \"-\"\n",
    "    if result[0] == 12 :\n",
    "        equation = equation + \"*\"\n",
    "    if result[0] == 13 :\n",
    "        equation = equation + \"/\"\n",
    "    if result[0] == 14 :\n",
    "        equation = equation + \"=\"\n",
    "    \n",
    "print(\"Your Equation :\", equation)"
   ]
  },
  {
   "cell_type": "code",
   "execution_count": 36,
   "id": "12d8b83e",
   "metadata": {},
   "outputs": [
    {
     "data": {
      "text/plain": [
       "4"
      ]
     },
     "execution_count": 36,
     "metadata": {},
     "output_type": "execute_result"
    }
   ],
   "source": [
    "eval(equation)"
   ]
  }
 ],
 "metadata": {
  "kernelspec": {
   "display_name": "Python 3.8.8 ('base')",
   "language": "python",
   "name": "python3"
  },
  "language_info": {
   "codemirror_mode": {
    "name": "ipython",
    "version": 3
   },
   "file_extension": ".py",
   "mimetype": "text/x-python",
   "name": "python",
   "nbconvert_exporter": "python",
   "pygments_lexer": "ipython3",
   "version": "3.8.8"
  },
  "papermill": {
   "default_parameters": {},
   "duration": 290.447526,
   "end_time": "2022-06-14T16:13:45.032873",
   "environment_variables": {},
   "exception": null,
   "input_path": "__notebook__.ipynb",
   "output_path": "__notebook__.ipynb",
   "parameters": {},
   "start_time": "2022-06-14T16:08:54.585347",
   "version": "2.3.4"
  },
  "vscode": {
   "interpreter": {
    "hash": "a5f2a5e5cd616c9670c9b92a0c44d7836165d5df512fcc0b72c7d67dbd5b01f6"
   }
  }
 },
 "nbformat": 4,
 "nbformat_minor": 5
}
