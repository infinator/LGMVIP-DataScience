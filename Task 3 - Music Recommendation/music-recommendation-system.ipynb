{
 "cells": [
  {
   "cell_type": "markdown",
   "id": "b06281c9",
   "metadata": {
    "papermill": {
     "duration": 0.008778,
     "end_time": "2022-06-06T09:47:32.044356",
     "exception": false,
     "start_time": "2022-06-06T09:47:32.035578",
     "status": "completed"
    },
    "tags": []
   },
   "source": [
    "# Loading Libraries"
   ]
  },
  {
   "cell_type": "code",
   "execution_count": 1,
   "id": "3f6e2206",
   "metadata": {
    "_cell_guid": "b1076dfc-b9ad-4769-8c92-a6c4dae69d19",
    "_uuid": "8f2839f25d086af736a60e9eeb907d3b93b6e0e5",
    "execution": {
     "iopub.execute_input": "2022-06-06T09:47:32.057557Z",
     "iopub.status.busy": "2022-06-06T09:47:32.056496Z",
     "iopub.status.idle": "2022-06-06T09:47:35.117359Z",
     "shell.execute_reply": "2022-06-06T09:47:35.116301Z"
    },
    "papermill": {
     "duration": 3.070016,
     "end_time": "2022-06-06T09:47:35.120138",
     "exception": false,
     "start_time": "2022-06-06T09:47:32.050122",
     "status": "completed"
    },
    "tags": []
   },
   "outputs": [
    {
     "data": {
      "text/html": [
       "<style type='text/css'>\n",
       ".datatable table.frame { margin-bottom: 0; }\n",
       ".datatable table.frame thead { border-bottom: none; }\n",
       ".datatable table.frame tr.coltypes td {  color: #FFFFFF;  line-height: 6px;  padding: 0 0.5em;}\n",
       ".datatable .bool    { background: #DDDD99; }\n",
       ".datatable .object  { background: #565656; }\n",
       ".datatable .int     { background: #5D9E5D; }\n",
       ".datatable .float   { background: #4040CC; }\n",
       ".datatable .str     { background: #CC4040; }\n",
       ".datatable .time    { background: #40CC40; }\n",
       ".datatable .row_index {  background: var(--jp-border-color3);  border-right: 1px solid var(--jp-border-color0);  color: var(--jp-ui-font-color3);  font-size: 9px;}\n",
       ".datatable .frame tbody td { text-align: left; }\n",
       ".datatable .frame tr.coltypes .row_index {  background: var(--jp-border-color0);}\n",
       ".datatable th:nth-child(2) { padding-left: 12px; }\n",
       ".datatable .hellipsis {  color: var(--jp-cell-editor-border-color);}\n",
       ".datatable .vellipsis {  background: var(--jp-layout-color0);  color: var(--jp-cell-editor-border-color);}\n",
       ".datatable .na {  color: var(--jp-cell-editor-border-color);  font-size: 80%;}\n",
       ".datatable .sp {  opacity: 0.25;}\n",
       ".datatable .footer { font-size: 9px; }\n",
       ".datatable .frame_dimensions {  background: var(--jp-border-color3);  border-top: 1px solid var(--jp-border-color0);  color: var(--jp-ui-font-color3);  display: inline-block;  opacity: 0.6;  padding: 1px 10px 1px 5px;}\n",
       "</style>\n"
      ],
      "text/plain": [
       "<IPython.core.display.HTML object>"
      ]
     },
     "metadata": {},
     "output_type": "display_data"
    }
   ],
   "source": [
    "# pandas and numpy\n",
    "import pandas as pd\n",
    "import numpy as np\n",
    "pd.set_option('display.max_columns', None)\n",
    "import warnings\n",
    "warnings.filterwarnings('ignore')\n",
    "\n",
    "# other\n",
    "import string\n",
    "import math\n",
    "import missingno as msno\n",
    "\n",
    "# data viz\n",
    "import seaborn as sns\n",
    "from matplotlib import pyplot as plt\n",
    "%matplotlib inline\n",
    "# from autoviz.AutoViz_Class import AutoViz_Class\n",
    "# %matplotlib inline\n",
    "import plotly.express as px\n",
    "%matplotlib inline\n",
    "\n",
    "# sklearn - other\n",
    "from sklearn.model_selection import train_test_split, RandomizedSearchCV, GridSearchCV, StratifiedKFold\n",
    "from sklearn.metrics import roc_curve, roc_auc_score, accuracy_score, confusion_matrix, classification_report\n",
    "from sklearn.preprocessing import OneHotEncoder, LabelEncoder, MinMaxScaler\n",
    "\n",
    "# sklearn - ML models\n",
    "from sklearn.ensemble import RandomForestClassifier, ExtraTreesClassifier\n",
    "\n",
    "# lightgbm\n",
    "import lightgbm as lgbm\n",
    "\n",
    "# xgboost\n",
    "import xgboost as xgb\n",
    "\n",
    "# catboost\n",
    "import catboost as cb"
   ]
  },
  {
   "cell_type": "markdown",
   "id": "50182db1",
   "metadata": {
    "papermill": {
     "duration": 0.004677,
     "end_time": "2022-06-06T09:47:35.130170",
     "exception": false,
     "start_time": "2022-06-06T09:47:35.125493",
     "status": "completed"
    },
    "tags": []
   },
   "source": [
    "# Reading the datasets"
   ]
  },
  {
   "cell_type": "code",
   "execution_count": 2,
   "id": "eacf2921",
   "metadata": {
    "execution": {
     "iopub.execute_input": "2022-06-06T09:47:35.142147Z",
     "iopub.status.busy": "2022-06-06T09:47:35.141701Z",
     "iopub.status.idle": "2022-06-06T09:48:00.736016Z",
     "shell.execute_reply": "2022-06-06T09:48:00.735058Z"
    },
    "papermill": {
     "duration": 25.60381,
     "end_time": "2022-06-06T09:48:00.738915",
     "exception": false,
     "start_time": "2022-06-06T09:47:35.135105",
     "status": "completed"
    },
    "tags": []
   },
   "outputs": [
    {
     "data": {
      "text/html": [
       "<div>\n",
       "<style scoped>\n",
       "    .dataframe tbody tr th:only-of-type {\n",
       "        vertical-align: middle;\n",
       "    }\n",
       "\n",
       "    .dataframe tbody tr th {\n",
       "        vertical-align: top;\n",
       "    }\n",
       "\n",
       "    .dataframe thead th {\n",
       "        text-align: right;\n",
       "    }\n",
       "</style>\n",
       "<table border=\"1\" class=\"dataframe\">\n",
       "  <thead>\n",
       "    <tr style=\"text-align: right;\">\n",
       "      <th></th>\n",
       "      <th>msno</th>\n",
       "      <th>song_id</th>\n",
       "      <th>source_system_tab</th>\n",
       "      <th>source_screen_name</th>\n",
       "      <th>source_type</th>\n",
       "      <th>target</th>\n",
       "      <th>song_length</th>\n",
       "      <th>genre_ids</th>\n",
       "      <th>artist_name</th>\n",
       "      <th>composer</th>\n",
       "      <th>lyricist</th>\n",
       "      <th>language</th>\n",
       "      <th>name</th>\n",
       "      <th>isrc</th>\n",
       "      <th>city</th>\n",
       "      <th>bd</th>\n",
       "      <th>gender</th>\n",
       "      <th>registered_via</th>\n",
       "      <th>registration_init_time</th>\n",
       "      <th>expiration_date</th>\n",
       "    </tr>\n",
       "  </thead>\n",
       "  <tbody>\n",
       "    <tr>\n",
       "      <th>0</th>\n",
       "      <td>FGtllVqz18RPiwJj/edr2gV78zirAiY/9SmYvia+kCg=</td>\n",
       "      <td>BBzumQNXUHKdEBOB7mAJuzok+IJA1c2Ryg/yzTF6tik=</td>\n",
       "      <td>explore</td>\n",
       "      <td>Explore</td>\n",
       "      <td>online-playlist</td>\n",
       "      <td>1</td>\n",
       "      <td>206471.0</td>\n",
       "      <td>359</td>\n",
       "      <td>Bastille</td>\n",
       "      <td>Dan Smith| Mark Crew</td>\n",
       "      <td>NaN</td>\n",
       "      <td>52.0</td>\n",
       "      <td>Good Grief</td>\n",
       "      <td>GBUM71602854</td>\n",
       "      <td>1</td>\n",
       "      <td>0</td>\n",
       "      <td>NaN</td>\n",
       "      <td>7</td>\n",
       "      <td>20120102</td>\n",
       "      <td>20171005</td>\n",
       "    </tr>\n",
       "    <tr>\n",
       "      <th>1</th>\n",
       "      <td>Xumu+NIjS6QYVxDS4/t3SawvJ7viT9hPKXmf0RtLNx8=</td>\n",
       "      <td>bhp/MpSNoqoxOIB+/l8WPqu6jldth4DIpCm3ayXnJqM=</td>\n",
       "      <td>my library</td>\n",
       "      <td>Local playlist more</td>\n",
       "      <td>local-playlist</td>\n",
       "      <td>1</td>\n",
       "      <td>284584.0</td>\n",
       "      <td>1259</td>\n",
       "      <td>Various Artists</td>\n",
       "      <td>NaN</td>\n",
       "      <td>NaN</td>\n",
       "      <td>52.0</td>\n",
       "      <td>Lords of Cardboard</td>\n",
       "      <td>US3C69910183</td>\n",
       "      <td>13</td>\n",
       "      <td>24</td>\n",
       "      <td>female</td>\n",
       "      <td>9</td>\n",
       "      <td>20110525</td>\n",
       "      <td>20170911</td>\n",
       "    </tr>\n",
       "    <tr>\n",
       "      <th>2</th>\n",
       "      <td>Xumu+NIjS6QYVxDS4/t3SawvJ7viT9hPKXmf0RtLNx8=</td>\n",
       "      <td>JNWfrrC7zNN7BdMpsISKa4Mw+xVJYNnxXh3/Epw7QgY=</td>\n",
       "      <td>my library</td>\n",
       "      <td>Local playlist more</td>\n",
       "      <td>local-playlist</td>\n",
       "      <td>1</td>\n",
       "      <td>225396.0</td>\n",
       "      <td>1259</td>\n",
       "      <td>Nas</td>\n",
       "      <td>N. Jones、W. Adams、J. Lordan、D. Ingle</td>\n",
       "      <td>NaN</td>\n",
       "      <td>52.0</td>\n",
       "      <td>Hip Hop Is Dead(Album Version (Edited))</td>\n",
       "      <td>USUM70618761</td>\n",
       "      <td>13</td>\n",
       "      <td>24</td>\n",
       "      <td>female</td>\n",
       "      <td>9</td>\n",
       "      <td>20110525</td>\n",
       "      <td>20170911</td>\n",
       "    </tr>\n",
       "    <tr>\n",
       "      <th>3</th>\n",
       "      <td>Xumu+NIjS6QYVxDS4/t3SawvJ7viT9hPKXmf0RtLNx8=</td>\n",
       "      <td>2A87tzfnJTSWqD7gIZHisolhe4DMdzkbd6LzO1KHjNs=</td>\n",
       "      <td>my library</td>\n",
       "      <td>Local playlist more</td>\n",
       "      <td>local-playlist</td>\n",
       "      <td>1</td>\n",
       "      <td>255512.0</td>\n",
       "      <td>1019</td>\n",
       "      <td>Soundway</td>\n",
       "      <td>Kwadwo Donkoh</td>\n",
       "      <td>NaN</td>\n",
       "      <td>-1.0</td>\n",
       "      <td>Disco Africa</td>\n",
       "      <td>GBUQH1000063</td>\n",
       "      <td>13</td>\n",
       "      <td>24</td>\n",
       "      <td>female</td>\n",
       "      <td>9</td>\n",
       "      <td>20110525</td>\n",
       "      <td>20170911</td>\n",
       "    </tr>\n",
       "    <tr>\n",
       "      <th>4</th>\n",
       "      <td>FGtllVqz18RPiwJj/edr2gV78zirAiY/9SmYvia+kCg=</td>\n",
       "      <td>3qm6XTZ6MOCU11x8FIVbAGH5l5uMkT3/ZalWG1oo2Gc=</td>\n",
       "      <td>explore</td>\n",
       "      <td>Explore</td>\n",
       "      <td>online-playlist</td>\n",
       "      <td>1</td>\n",
       "      <td>187802.0</td>\n",
       "      <td>1011</td>\n",
       "      <td>Brett Young</td>\n",
       "      <td>Brett Young| Kelly Archer| Justin Ebach</td>\n",
       "      <td>NaN</td>\n",
       "      <td>52.0</td>\n",
       "      <td>Sleep Without You</td>\n",
       "      <td>QM3E21606003</td>\n",
       "      <td>1</td>\n",
       "      <td>0</td>\n",
       "      <td>NaN</td>\n",
       "      <td>7</td>\n",
       "      <td>20120102</td>\n",
       "      <td>20171005</td>\n",
       "    </tr>\n",
       "  </tbody>\n",
       "</table>\n",
       "</div>"
      ],
      "text/plain": [
       "                                           msno  \\\n",
       "0  FGtllVqz18RPiwJj/edr2gV78zirAiY/9SmYvia+kCg=   \n",
       "1  Xumu+NIjS6QYVxDS4/t3SawvJ7viT9hPKXmf0RtLNx8=   \n",
       "2  Xumu+NIjS6QYVxDS4/t3SawvJ7viT9hPKXmf0RtLNx8=   \n",
       "3  Xumu+NIjS6QYVxDS4/t3SawvJ7viT9hPKXmf0RtLNx8=   \n",
       "4  FGtllVqz18RPiwJj/edr2gV78zirAiY/9SmYvia+kCg=   \n",
       "\n",
       "                                        song_id source_system_tab  \\\n",
       "0  BBzumQNXUHKdEBOB7mAJuzok+IJA1c2Ryg/yzTF6tik=           explore   \n",
       "1  bhp/MpSNoqoxOIB+/l8WPqu6jldth4DIpCm3ayXnJqM=        my library   \n",
       "2  JNWfrrC7zNN7BdMpsISKa4Mw+xVJYNnxXh3/Epw7QgY=        my library   \n",
       "3  2A87tzfnJTSWqD7gIZHisolhe4DMdzkbd6LzO1KHjNs=        my library   \n",
       "4  3qm6XTZ6MOCU11x8FIVbAGH5l5uMkT3/ZalWG1oo2Gc=           explore   \n",
       "\n",
       "    source_screen_name      source_type  target  song_length genre_ids  \\\n",
       "0              Explore  online-playlist       1     206471.0       359   \n",
       "1  Local playlist more   local-playlist       1     284584.0      1259   \n",
       "2  Local playlist more   local-playlist       1     225396.0      1259   \n",
       "3  Local playlist more   local-playlist       1     255512.0      1019   \n",
       "4              Explore  online-playlist       1     187802.0      1011   \n",
       "\n",
       "       artist_name                                 composer lyricist  \\\n",
       "0         Bastille                     Dan Smith| Mark Crew      NaN   \n",
       "1  Various Artists                                      NaN      NaN   \n",
       "2              Nas     N. Jones、W. Adams、J. Lordan、D. Ingle      NaN   \n",
       "3         Soundway                            Kwadwo Donkoh      NaN   \n",
       "4      Brett Young  Brett Young| Kelly Archer| Justin Ebach      NaN   \n",
       "\n",
       "   language                                     name          isrc  city  bd  \\\n",
       "0      52.0                               Good Grief  GBUM71602854     1   0   \n",
       "1      52.0                       Lords of Cardboard  US3C69910183    13  24   \n",
       "2      52.0  Hip Hop Is Dead(Album Version (Edited))  USUM70618761    13  24   \n",
       "3      -1.0                             Disco Africa  GBUQH1000063    13  24   \n",
       "4      52.0                        Sleep Without You  QM3E21606003     1   0   \n",
       "\n",
       "   gender  registered_via  registration_init_time  expiration_date  \n",
       "0     NaN               7                20120102         20171005  \n",
       "1  female               9                20110525         20170911  \n",
       "2  female               9                20110525         20170911  \n",
       "3  female               9                20110525         20170911  \n",
       "4     NaN               7                20120102         20171005  "
      ]
     },
     "execution_count": 2,
     "metadata": {},
     "output_type": "execute_result"
    }
   ],
   "source": [
    "songs_df = pd.read_csv(\"../input/wsdm-music-recommendation/songs.csv\")\n",
    "songs_extra_df = pd.read_csv(\"../input/wsdm-music-recommendation/song_extra_info.csv\")\n",
    "members_df = pd.read_csv(\"../input/wsdm-music-recommendation/members.csv\")\n",
    "train_df = pd.read_csv(\"../input/wsdm-music-recommendation/train.csv\", nrows = 100000)\n",
    "t_s = pd.merge(train_df, songs_df, on='song_id', how='left')\n",
    "t_s_se = pd.merge(t_s, songs_extra_df, on='song_id', how='left')\n",
    "songs = pd.merge(t_s_se, members_df, on='msno', how='left')\n",
    "del songs_df, songs_extra_df, members_df, train_df, t_s, t_s_se\n",
    "songs.head()"
   ]
  },
  {
   "cell_type": "code",
   "execution_count": 3,
   "id": "0a147a0b",
   "metadata": {
    "execution": {
     "iopub.execute_input": "2022-06-06T09:48:00.752515Z",
     "iopub.status.busy": "2022-06-06T09:48:00.751434Z",
     "iopub.status.idle": "2022-06-06T09:48:00.844560Z",
     "shell.execute_reply": "2022-06-06T09:48:00.843575Z"
    },
    "papermill": {
     "duration": 0.1022,
     "end_time": "2022-06-06T09:48:00.846630",
     "exception": false,
     "start_time": "2022-06-06T09:48:00.744430",
     "status": "completed"
    },
    "tags": []
   },
   "outputs": [
    {
     "name": "stdout",
     "output_type": "stream",
     "text": [
      "<class 'pandas.core.frame.DataFrame'>\n",
      "Int64Index: 100000 entries, 0 to 99999\n",
      "Data columns (total 20 columns):\n",
      " #   Column                  Non-Null Count   Dtype  \n",
      "---  ------                  --------------   -----  \n",
      " 0   msno                    100000 non-null  object \n",
      " 1   song_id                 100000 non-null  object \n",
      " 2   source_system_tab       99697 non-null   object \n",
      " 3   source_screen_name      95727 non-null   object \n",
      " 4   source_type             99805 non-null   object \n",
      " 5   target                  100000 non-null  int64  \n",
      " 6   song_length             99996 non-null   float64\n",
      " 7   genre_ids               98498 non-null   object \n",
      " 8   artist_name             99996 non-null   object \n",
      " 9   composer                78528 non-null   object \n",
      " 10  lyricist                59309 non-null   object \n",
      " 11  language                99996 non-null   float64\n",
      " 12  name                    99991 non-null   object \n",
      " 13  isrc                    91475 non-null   object \n",
      " 14  city                    100000 non-null  int64  \n",
      " 15  bd                      100000 non-null  int64  \n",
      " 16  gender                  61328 non-null   object \n",
      " 17  registered_via          100000 non-null  int64  \n",
      " 18  registration_init_time  100000 non-null  int64  \n",
      " 19  expiration_date         100000 non-null  int64  \n",
      "dtypes: float64(2), int64(6), object(12)\n",
      "memory usage: 16.0+ MB\n"
     ]
    }
   ],
   "source": [
    "songs.info()"
   ]
  },
  {
   "cell_type": "markdown",
   "id": "d7955a5b",
   "metadata": {
    "papermill": {
     "duration": 0.005126,
     "end_time": "2022-06-06T09:48:00.857423",
     "exception": false,
     "start_time": "2022-06-06T09:48:00.852297",
     "status": "completed"
    },
    "tags": []
   },
   "source": [
    "# Dealing with the missing values"
   ]
  },
  {
   "cell_type": "code",
   "execution_count": 4,
   "id": "709ad7bc",
   "metadata": {
    "execution": {
     "iopub.execute_input": "2022-06-06T09:48:00.870430Z",
     "iopub.status.busy": "2022-06-06T09:48:00.869685Z",
     "iopub.status.idle": "2022-06-06T09:48:02.336588Z",
     "shell.execute_reply": "2022-06-06T09:48:02.335443Z"
    },
    "papermill": {
     "duration": 1.476181,
     "end_time": "2022-06-06T09:48:02.338972",
     "exception": false,
     "start_time": "2022-06-06T09:48:00.862791",
     "status": "completed"
    },
    "tags": []
   },
   "outputs": [
    {
     "data": {
      "text/plain": [
       "<AxesSubplot:>"
      ]
     },
     "execution_count": 4,
     "metadata": {},
     "output_type": "execute_result"
    },
    {
     "data": {
      "image/png": "[encoded data removed]",
      "text/plain": [
       "<Figure size 1800x720 with 2 Axes>"
      ]
     },
     "metadata": {
      "needs_background": "light"
     },
     "output_type": "display_data"
    }
   ],
   "source": [
    "msno.matrix(songs)"
   ]
  },
  {
   "cell_type": "code",
   "execution_count": 5,
   "id": "97d61bad",
   "metadata": {
    "execution": {
     "iopub.execute_input": "2022-06-06T09:48:02.355394Z",
     "iopub.status.busy": "2022-06-06T09:48:02.354203Z",
     "iopub.status.idle": "2022-06-06T09:48:02.626720Z",
     "shell.execute_reply": "2022-06-06T09:48:02.625627Z"
    },
    "papermill": {
     "duration": 0.283261,
     "end_time": "2022-06-06T09:48:02.629359",
     "exception": false,
     "start_time": "2022-06-06T09:48:02.346098",
     "status": "completed"
    },
    "tags": []
   },
   "outputs": [],
   "source": [
    "for i in songs.select_dtypes(include=['object']).columns:\n",
    "    songs[i][songs[i].isnull()] = 'unknown'\n",
    "songs = songs.fillna(value=0)\n",
    "\n",
    "# songs.dropna(inplace=True)"
   ]
  },
  {
   "cell_type": "markdown",
   "id": "378cf758",
   "metadata": {
    "papermill": {
     "duration": 0.006528,
     "end_time": "2022-06-06T09:48:02.642679",
     "exception": false,
     "start_time": "2022-06-06T09:48:02.636151",
     "status": "completed"
    },
    "tags": []
   },
   "source": [
    "# Extracting new features"
   ]
  },
  {
   "cell_type": "code",
   "execution_count": 6,
   "id": "96f2749e",
   "metadata": {
    "execution": {
     "iopub.execute_input": "2022-06-06T09:48:02.659277Z",
     "iopub.status.busy": "2022-06-06T09:48:02.658173Z",
     "iopub.status.idle": "2022-06-06T09:48:02.752461Z",
     "shell.execute_reply": "2022-06-06T09:48:02.751368Z"
    },
    "papermill": {
     "duration": 0.105422,
     "end_time": "2022-06-06T09:48:02.755101",
     "exception": false,
     "start_time": "2022-06-06T09:48:02.649679",
     "status": "completed"
    },
    "tags": []
   },
   "outputs": [],
   "source": [
    "# registration_init_time\n",
    "songs.registration_init_time = pd.to_datetime(songs.registration_init_time, format='%Y%m%d', errors='ignore')\n",
    "songs['registration_init_time_year'] = songs['registration_init_time'].dt.year\n",
    "songs['registration_init_time_month'] = songs['registration_init_time'].dt.month\n",
    "songs['registration_init_time_day'] = songs['registration_init_time'].dt.day\n",
    "\n",
    "# expiration_date\n",
    "songs.expiration_date = pd.to_datetime(songs.expiration_date,  format='%Y%m%d', errors='ignore')\n",
    "songs['expiration_date_year'] = songs['expiration_date'].dt.year\n",
    "songs['expiration_date_month'] = songs['expiration_date'].dt.month\n",
    "songs['expiration_date_day'] = songs['expiration_date'].dt.day"
   ]
  },
  {
   "cell_type": "code",
   "execution_count": 7,
   "id": "813ac43d",
   "metadata": {
    "execution": {
     "iopub.execute_input": "2022-06-06T09:48:02.771000Z",
     "iopub.status.busy": "2022-06-06T09:48:02.770551Z",
     "iopub.status.idle": "2022-06-06T09:48:02.796752Z",
     "shell.execute_reply": "2022-06-06T09:48:02.795746Z"
    },
    "papermill": {
     "duration": 0.036851,
     "end_time": "2022-06-06T09:48:02.798783",
     "exception": false,
     "start_time": "2022-06-06T09:48:02.761932",
     "status": "completed"
    },
    "tags": []
   },
   "outputs": [
    {
     "data": {
      "text/html": [
       "<div>\n",
       "<style scoped>\n",
       "    .dataframe tbody tr th:only-of-type {\n",
       "        vertical-align: middle;\n",
       "    }\n",
       "\n",
       "    .dataframe tbody tr th {\n",
       "        vertical-align: top;\n",
       "    }\n",
       "\n",
       "    .dataframe thead th {\n",
       "        text-align: right;\n",
       "    }\n",
       "</style>\n",
       "<table border=\"1\" class=\"dataframe\">\n",
       "  <thead>\n",
       "    <tr style=\"text-align: right;\">\n",
       "      <th></th>\n",
       "      <th>msno</th>\n",
       "      <th>song_id</th>\n",
       "      <th>source_system_tab</th>\n",
       "      <th>source_screen_name</th>\n",
       "      <th>source_type</th>\n",
       "      <th>target</th>\n",
       "      <th>song_length</th>\n",
       "      <th>genre_ids</th>\n",
       "      <th>artist_name</th>\n",
       "      <th>composer</th>\n",
       "      <th>lyricist</th>\n",
       "      <th>language</th>\n",
       "      <th>name</th>\n",
       "      <th>isrc</th>\n",
       "      <th>city</th>\n",
       "      <th>bd</th>\n",
       "      <th>gender</th>\n",
       "      <th>registered_via</th>\n",
       "      <th>registration_init_time</th>\n",
       "      <th>expiration_date</th>\n",
       "      <th>registration_init_time_year</th>\n",
       "      <th>registration_init_time_month</th>\n",
       "      <th>registration_init_time_day</th>\n",
       "      <th>expiration_date_year</th>\n",
       "      <th>expiration_date_month</th>\n",
       "      <th>expiration_date_day</th>\n",
       "    </tr>\n",
       "  </thead>\n",
       "  <tbody>\n",
       "    <tr>\n",
       "      <th>0</th>\n",
       "      <td>FGtllVqz18RPiwJj/edr2gV78zirAiY/9SmYvia+kCg=</td>\n",
       "      <td>BBzumQNXUHKdEBOB7mAJuzok+IJA1c2Ryg/yzTF6tik=</td>\n",
       "      <td>explore</td>\n",
       "      <td>Explore</td>\n",
       "      <td>online-playlist</td>\n",
       "      <td>1</td>\n",
       "      <td>206471.0</td>\n",
       "      <td>359</td>\n",
       "      <td>Bastille</td>\n",
       "      <td>Dan Smith| Mark Crew</td>\n",
       "      <td>unknown</td>\n",
       "      <td>52.0</td>\n",
       "      <td>Good Grief</td>\n",
       "      <td>GBUM71602854</td>\n",
       "      <td>1</td>\n",
       "      <td>0</td>\n",
       "      <td>unknown</td>\n",
       "      <td>7</td>\n",
       "      <td>2012-01-02</td>\n",
       "      <td>2017-10-05</td>\n",
       "      <td>2012</td>\n",
       "      <td>1</td>\n",
       "      <td>2</td>\n",
       "      <td>2017</td>\n",
       "      <td>10</td>\n",
       "      <td>5</td>\n",
       "    </tr>\n",
       "    <tr>\n",
       "      <th>1</th>\n",
       "      <td>Xumu+NIjS6QYVxDS4/t3SawvJ7viT9hPKXmf0RtLNx8=</td>\n",
       "      <td>bhp/MpSNoqoxOIB+/l8WPqu6jldth4DIpCm3ayXnJqM=</td>\n",
       "      <td>my library</td>\n",
       "      <td>Local playlist more</td>\n",
       "      <td>local-playlist</td>\n",
       "      <td>1</td>\n",
       "      <td>284584.0</td>\n",
       "      <td>1259</td>\n",
       "      <td>Various Artists</td>\n",
       "      <td>unknown</td>\n",
       "      <td>unknown</td>\n",
       "      <td>52.0</td>\n",
       "      <td>Lords of Cardboard</td>\n",
       "      <td>US3C69910183</td>\n",
       "      <td>13</td>\n",
       "      <td>24</td>\n",
       "      <td>female</td>\n",
       "      <td>9</td>\n",
       "      <td>2011-05-25</td>\n",
       "      <td>2017-09-11</td>\n",
       "      <td>2011</td>\n",
       "      <td>5</td>\n",
       "      <td>25</td>\n",
       "      <td>2017</td>\n",
       "      <td>9</td>\n",
       "      <td>11</td>\n",
       "    </tr>\n",
       "    <tr>\n",
       "      <th>2</th>\n",
       "      <td>Xumu+NIjS6QYVxDS4/t3SawvJ7viT9hPKXmf0RtLNx8=</td>\n",
       "      <td>JNWfrrC7zNN7BdMpsISKa4Mw+xVJYNnxXh3/Epw7QgY=</td>\n",
       "      <td>my library</td>\n",
       "      <td>Local playlist more</td>\n",
       "      <td>local-playlist</td>\n",
       "      <td>1</td>\n",
       "      <td>225396.0</td>\n",
       "      <td>1259</td>\n",
       "      <td>Nas</td>\n",
       "      <td>N. Jones、W. Adams、J. Lordan、D. Ingle</td>\n",
       "      <td>unknown</td>\n",
       "      <td>52.0</td>\n",
       "      <td>Hip Hop Is Dead(Album Version (Edited))</td>\n",
       "      <td>USUM70618761</td>\n",
       "      <td>13</td>\n",
       "      <td>24</td>\n",
       "      <td>female</td>\n",
       "      <td>9</td>\n",
       "      <td>2011-05-25</td>\n",
       "      <td>2017-09-11</td>\n",
       "      <td>2011</td>\n",
       "      <td>5</td>\n",
       "      <td>25</td>\n",
       "      <td>2017</td>\n",
       "      <td>9</td>\n",
       "      <td>11</td>\n",
       "    </tr>\n",
       "    <tr>\n",
       "      <th>3</th>\n",
       "      <td>Xumu+NIjS6QYVxDS4/t3SawvJ7viT9hPKXmf0RtLNx8=</td>\n",
       "      <td>2A87tzfnJTSWqD7gIZHisolhe4DMdzkbd6LzO1KHjNs=</td>\n",
       "      <td>my library</td>\n",
       "      <td>Local playlist more</td>\n",
       "      <td>local-playlist</td>\n",
       "      <td>1</td>\n",
       "      <td>255512.0</td>\n",
       "      <td>1019</td>\n",
       "      <td>Soundway</td>\n",
       "      <td>Kwadwo Donkoh</td>\n",
       "      <td>unknown</td>\n",
       "      <td>-1.0</td>\n",
       "      <td>Disco Africa</td>\n",
       "      <td>GBUQH1000063</td>\n",
       "      <td>13</td>\n",
       "      <td>24</td>\n",
       "      <td>female</td>\n",
       "      <td>9</td>\n",
       "      <td>2011-05-25</td>\n",
       "      <td>2017-09-11</td>\n",
       "      <td>2011</td>\n",
       "      <td>5</td>\n",
       "      <td>25</td>\n",
       "      <td>2017</td>\n",
       "      <td>9</td>\n",
       "      <td>11</td>\n",
       "    </tr>\n",
       "    <tr>\n",
       "      <th>4</th>\n",
       "      <td>FGtllVqz18RPiwJj/edr2gV78zirAiY/9SmYvia+kCg=</td>\n",
       "      <td>3qm6XTZ6MOCU11x8FIVbAGH5l5uMkT3/ZalWG1oo2Gc=</td>\n",
       "      <td>explore</td>\n",
       "      <td>Explore</td>\n",
       "      <td>online-playlist</td>\n",
       "      <td>1</td>\n",
       "      <td>187802.0</td>\n",
       "      <td>1011</td>\n",
       "      <td>Brett Young</td>\n",
       "      <td>Brett Young| Kelly Archer| Justin Ebach</td>\n",
       "      <td>unknown</td>\n",
       "      <td>52.0</td>\n",
       "      <td>Sleep Without You</td>\n",
       "      <td>QM3E21606003</td>\n",
       "      <td>1</td>\n",
       "      <td>0</td>\n",
       "      <td>unknown</td>\n",
       "      <td>7</td>\n",
       "      <td>2012-01-02</td>\n",
       "      <td>2017-10-05</td>\n",
       "      <td>2012</td>\n",
       "      <td>1</td>\n",
       "      <td>2</td>\n",
       "      <td>2017</td>\n",
       "      <td>10</td>\n",
       "      <td>5</td>\n",
       "    </tr>\n",
       "  </tbody>\n",
       "</table>\n",
       "</div>"
      ],
      "text/plain": [
       "                                           msno  \\\n",
       "0  FGtllVqz18RPiwJj/edr2gV78zirAiY/9SmYvia+kCg=   \n",
       "1  Xumu+NIjS6QYVxDS4/t3SawvJ7viT9hPKXmf0RtLNx8=   \n",
       "2  Xumu+NIjS6QYVxDS4/t3SawvJ7viT9hPKXmf0RtLNx8=   \n",
       "3  Xumu+NIjS6QYVxDS4/t3SawvJ7viT9hPKXmf0RtLNx8=   \n",
       "4  FGtllVqz18RPiwJj/edr2gV78zirAiY/9SmYvia+kCg=   \n",
       "\n",
       "                                        song_id source_system_tab  \\\n",
       "0  BBzumQNXUHKdEBOB7mAJuzok+IJA1c2Ryg/yzTF6tik=           explore   \n",
       "1  bhp/MpSNoqoxOIB+/l8WPqu6jldth4DIpCm3ayXnJqM=        my library   \n",
       "2  JNWfrrC7zNN7BdMpsISKa4Mw+xVJYNnxXh3/Epw7QgY=        my library   \n",
       "3  2A87tzfnJTSWqD7gIZHisolhe4DMdzkbd6LzO1KHjNs=        my library   \n",
       "4  3qm6XTZ6MOCU11x8FIVbAGH5l5uMkT3/ZalWG1oo2Gc=           explore   \n",
       "\n",
       "    source_screen_name      source_type  target  song_length genre_ids  \\\n",
       "0              Explore  online-playlist       1     206471.0       359   \n",
       "1  Local playlist more   local-playlist       1     284584.0      1259   \n",
       "2  Local playlist more   local-playlist       1     225396.0      1259   \n",
       "3  Local playlist more   local-playlist       1     255512.0      1019   \n",
       "4              Explore  online-playlist       1     187802.0      1011   \n",
       "\n",
       "       artist_name                                 composer lyricist  \\\n",
       "0         Bastille                     Dan Smith| Mark Crew  unknown   \n",
       "1  Various Artists                                  unknown  unknown   \n",
       "2              Nas     N. Jones、W. Adams、J. Lordan、D. Ingle  unknown   \n",
       "3         Soundway                            Kwadwo Donkoh  unknown   \n",
       "4      Brett Young  Brett Young| Kelly Archer| Justin Ebach  unknown   \n",
       "\n",
       "   language                                     name          isrc  city  bd  \\\n",
       "0      52.0                               Good Grief  GBUM71602854     1   0   \n",
       "1      52.0                       Lords of Cardboard  US3C69910183    13  24   \n",
       "2      52.0  Hip Hop Is Dead(Album Version (Edited))  USUM70618761    13  24   \n",
       "3      -1.0                             Disco Africa  GBUQH1000063    13  24   \n",
       "4      52.0                        Sleep Without You  QM3E21606003     1   0   \n",
       "\n",
       "    gender  registered_via registration_init_time expiration_date  \\\n",
       "0  unknown               7             2012-01-02      2017-10-05   \n",
       "1   female               9             2011-05-25      2017-09-11   \n",
       "2   female               9             2011-05-25      2017-09-11   \n",
       "3   female               9             2011-05-25      2017-09-11   \n",
       "4  unknown               7             2012-01-02      2017-10-05   \n",
       "\n",
       "   registration_init_time_year  registration_init_time_month  \\\n",
       "0                         2012                             1   \n",
       "1                         2011                             5   \n",
       "2                         2011                             5   \n",
       "3                         2011                             5   \n",
       "4                         2012                             1   \n",
       "\n",
       "   registration_init_time_day  expiration_date_year  expiration_date_month  \\\n",
       "0                           2                  2017                     10   \n",
       "1                          25                  2017                      9   \n",
       "2                          25                  2017                      9   \n",
       "3                          25                  2017                      9   \n",
       "4                           2                  2017                     10   \n",
       "\n",
       "   expiration_date_day  \n",
       "0                    5  \n",
       "1                   11  \n",
       "2                   11  \n",
       "3                   11  \n",
       "4                    5  "
      ]
     },
     "execution_count": 7,
     "metadata": {},
     "output_type": "execute_result"
    }
   ],
   "source": [
    "songs.head()"
   ]
  },
  {
   "cell_type": "code",
   "execution_count": 8,
   "id": "ba2828b9",
   "metadata": {
    "execution": {
     "iopub.execute_input": "2022-06-06T09:48:02.815220Z",
     "iopub.status.busy": "2022-06-06T09:48:02.814611Z",
     "iopub.status.idle": "2022-06-06T09:48:03.596942Z",
     "shell.execute_reply": "2022-06-06T09:48:03.595950Z"
    },
    "papermill": {
     "duration": 0.793646,
     "end_time": "2022-06-06T09:48:03.599549",
     "exception": false,
     "start_time": "2022-06-06T09:48:02.805903",
     "status": "completed"
    },
    "tags": []
   },
   "outputs": [],
   "source": [
    "label_encoder = LabelEncoder()\n",
    "one_hot = OneHotEncoder()\n",
    "\n",
    "for i in songs.columns :\n",
    "    songs[i] = label_encoder.fit_transform(songs[i])"
   ]
  },
  {
   "cell_type": "code",
   "execution_count": 9,
   "id": "a6892868",
   "metadata": {
    "execution": {
     "iopub.execute_input": "2022-06-06T09:48:03.621574Z",
     "iopub.status.busy": "2022-06-06T09:48:03.620410Z",
     "iopub.status.idle": "2022-06-06T09:48:04.621301Z",
     "shell.execute_reply": "2022-06-06T09:48:04.620290Z"
    },
    "papermill": {
     "duration": 1.01599,
     "end_time": "2022-06-06T09:48:04.626191",
     "exception": false,
     "start_time": "2022-06-06T09:48:03.610201",
     "status": "completed"
    },
    "tags": []
   },
   "outputs": [
    {
     "data": {
      "image/png": "[encoded data removed]",
      "text/plain": [
       "<Figure size 1080x720 with 2 Axes>"
      ]
     },
     "metadata": {
      "needs_background": "light"
     },
     "output_type": "display_data"
    }
   ],
   "source": [
    "# Сorrelation matrix\n",
    "plt.figure(figsize=[15,10])\n",
    "sns.heatmap(songs.corr())\n",
    "plt.show()"
   ]
  },
  {
   "cell_type": "markdown",
   "id": "6fe76365",
   "metadata": {
    "papermill": {
     "duration": 0.01893,
     "end_time": "2022-06-06T09:48:04.668590",
     "exception": false,
     "start_time": "2022-06-06T09:48:04.649660",
     "status": "completed"
    },
    "tags": []
   },
   "source": [
    "# Modeling"
   ]
  },
  {
   "cell_type": "code",
   "execution_count": 10,
   "id": "891e54b0",
   "metadata": {
    "execution": {
     "iopub.execute_input": "2022-06-06T09:48:04.699786Z",
     "iopub.status.busy": "2022-06-06T09:48:04.699101Z",
     "iopub.status.idle": "2022-06-06T09:48:04.787204Z",
     "shell.execute_reply": "2022-06-06T09:48:04.786176Z"
    },
    "papermill": {
     "duration": 0.110207,
     "end_time": "2022-06-06T09:48:04.790008",
     "exception": false,
     "start_time": "2022-06-06T09:48:04.679801",
     "status": "completed"
    },
    "tags": []
   },
   "outputs": [],
   "source": [
    "X = songs.drop('target', axis = 1)\n",
    "y = songs.target\n",
    "X_train, X_test, y_train, y_test = train_test_split(X, y, test_size = 0.25, random_state = 0)"
   ]
  },
  {
   "cell_type": "code",
   "execution_count": 11,
   "id": "39dc1d06",
   "metadata": {
    "execution": {
     "iopub.execute_input": "2022-06-06T09:48:04.813389Z",
     "iopub.status.busy": "2022-06-06T09:48:04.812512Z",
     "iopub.status.idle": "2022-06-06T09:48:04.820379Z",
     "shell.execute_reply": "2022-06-06T09:48:04.819614Z"
    },
    "papermill": {
     "duration": 0.01999,
     "end_time": "2022-06-06T09:48:04.822576",
     "exception": false,
     "start_time": "2022-06-06T09:48:04.802586",
     "status": "completed"
    },
    "tags": []
   },
   "outputs": [],
   "source": [
    "def model_with(model_name, X_train, X_test, y_train, y_test) :\n",
    "    print(\"==================================================\")\n",
    "    print(\"Modeling with :\", model_name)\n",
    "    print()\n",
    "        \n",
    "    if model_name == \"Random Forest Classifier\" :\n",
    "        model = RandomForestClassifier()\n",
    "    elif model_name == \"Extra Trees Classifier\" :\n",
    "        model = ExtraTreesClassifier()\n",
    "    elif model_name == \"LightGBM Classifier\" :\n",
    "        model = lgbm.LGBMClassifier()\n",
    "    elif model_name == \"XGBoost Classifier\" :\n",
    "        model = xgb.XGBClassifier()\n",
    "    elif model_name == \"CatBoost Classifier\" :\n",
    "        model = cb.CatBoostClassifier(verbose=0)\n",
    "    else :\n",
    "        print(\"Model not found in function.\")\n",
    "        \n",
    "    model.fit(X_train, y_train)\n",
    "    \n",
    "    y_pred = model.predict(X_test)\n",
    "    print(classification_report(y_test, y_pred))\n",
    "    print()\n",
    "    print(\"Accuracy :\", accuracy_score(y_test, y_pred))\n",
    "    print(\"ROC :\", roc_auc_score(y_test, y_pred))\n",
    "    \n",
    "    print(\"==================================================\")\n",
    "    print()"
   ]
  },
  {
   "cell_type": "code",
   "execution_count": 12,
   "id": "01e6342d",
   "metadata": {
    "execution": {
     "iopub.execute_input": "2022-06-06T09:48:04.848288Z",
     "iopub.status.busy": "2022-06-06T09:48:04.847225Z",
     "iopub.status.idle": "2022-06-06T09:49:12.064564Z",
     "shell.execute_reply": "2022-06-06T09:49:12.063052Z"
    },
    "papermill": {
     "duration": 67.23345,
     "end_time": "2022-06-06T09:49:12.067699",
     "exception": false,
     "start_time": "2022-06-06T09:48:04.834249",
     "status": "completed"
    },
    "tags": []
   },
   "outputs": [
    {
     "name": "stdout",
     "output_type": "stream",
     "text": [
      "==================================================\n",
      "Modeling with : Random Forest Classifier\n",
      "\n",
      "              precision    recall  f1-score   support\n",
      "\n",
      "           0       0.75      0.58      0.65      6176\n",
      "           1       0.87      0.94      0.90     18824\n",
      "\n",
      "    accuracy                           0.85     25000\n",
      "   macro avg       0.81      0.76      0.78     25000\n",
      "weighted avg       0.84      0.85      0.84     25000\n",
      "\n",
      "\n",
      "Accuracy : 0.84852\n",
      "ROC : 0.7574349056105204\n",
      "==================================================\n",
      "\n",
      "==================================================\n",
      "Modeling with : Extra Trees Classifier\n",
      "\n",
      "              precision    recall  f1-score   support\n",
      "\n",
      "           0       0.73      0.60      0.66      6176\n",
      "           1       0.88      0.93      0.90     18824\n",
      "\n",
      "    accuracy                           0.84     25000\n",
      "   macro avg       0.80      0.76      0.78     25000\n",
      "weighted avg       0.84      0.84      0.84     25000\n",
      "\n",
      "\n",
      "Accuracy : 0.84496\n",
      "ROC : 0.7616529045161177\n",
      "==================================================\n",
      "\n",
      "==================================================\n",
      "Modeling with : LightGBM Classifier\n",
      "\n",
      "              precision    recall  f1-score   support\n",
      "\n",
      "           0       0.73      0.40      0.52      6176\n",
      "           1       0.83      0.95      0.89     18824\n",
      "\n",
      "    accuracy                           0.82     25000\n",
      "   macro avg       0.78      0.68      0.70     25000\n",
      "weighted avg       0.81      0.82      0.80     25000\n",
      "\n",
      "\n",
      "Accuracy : 0.81584\n",
      "ROC : 0.6758975010404533\n",
      "==================================================\n",
      "\n",
      "==================================================\n",
      "Modeling with : XGBoost Classifier\n",
      "\n",
      "              precision    recall  f1-score   support\n",
      "\n",
      "           0       0.74      0.49      0.59      6176\n",
      "           1       0.85      0.94      0.89     18824\n",
      "\n",
      "    accuracy                           0.83     25000\n",
      "   macro avg       0.79      0.71      0.74     25000\n",
      "weighted avg       0.82      0.83      0.82     25000\n",
      "\n",
      "\n",
      "Accuracy : 0.83004\n",
      "ROC : 0.714429194402912\n",
      "==================================================\n",
      "\n",
      "==================================================\n",
      "Modeling with : CatBoost Classifier\n",
      "\n",
      "              precision    recall  f1-score   support\n",
      "\n",
      "           0       0.76      0.47      0.58      6176\n",
      "           1       0.84      0.95      0.89     18824\n",
      "\n",
      "    accuracy                           0.83     25000\n",
      "   macro avg       0.80      0.71      0.74     25000\n",
      "weighted avg       0.82      0.83      0.82     25000\n",
      "\n",
      "\n",
      "Accuracy : 0.83092\n",
      "ROC : 0.7084859492016586\n",
      "==================================================\n",
      "\n"
     ]
    }
   ],
   "source": [
    "models = [\"Random Forest Classifier\", \"Extra Trees Classifier\", \"LightGBM Classifier\", \"XGBoost Classifier\", \"CatBoost Classifier\"]\n",
    "for i in models :\n",
    "    model_with(i, X_train, X_test, y_train, y_test)"
   ]
  },
  {
   "cell_type": "markdown",
   "id": "c20a76e0",
   "metadata": {
    "papermill": {
     "duration": 0.008619,
     "end_time": "2022-06-06T09:49:12.085222",
     "exception": false,
     "start_time": "2022-06-06T09:49:12.076603",
     "status": "completed"
    },
    "tags": []
   },
   "source": [
    "# Random Forest and class weights"
   ]
  },
  {
   "cell_type": "code",
   "execution_count": 13,
   "id": "70c6bce8",
   "metadata": {
    "_kg_hide-output": true,
    "execution": {
     "iopub.execute_input": "2022-06-06T09:49:12.105419Z",
     "iopub.status.busy": "2022-06-06T09:49:12.104711Z",
     "iopub.status.idle": "2022-06-06T12:58:50.157604Z",
     "shell.execute_reply": "2022-06-06T12:58:50.155638Z"
    },
    "papermill": {
     "duration": 11378.067288,
     "end_time": "2022-06-06T12:58:50.161382",
     "exception": false,
     "start_time": "2022-06-06T09:49:12.094094",
     "status": "completed"
    },
    "scrolled": true,
    "tags": []
   },
   "outputs": [],
   "source": [
    "rf = RandomForestClassifier()\n",
    "\n",
    "#Setting the range for class weights\n",
    "weights = np.linspace(0.0,1.99,100)\n",
    "\n",
    "#Creating a dictionary grid for grid search\n",
    "param_grid = {'class_weight': [{0:x, 1:2.0-x} for x in weights]}\n",
    "\n",
    "#Fitting grid search to the train data with 5 folds\n",
    "gridsearch = GridSearchCV(estimator= rf, \n",
    "                          param_grid= param_grid,\n",
    "                          cv=5,\n",
    "                          scoring='accuracy', \n",
    "                          verbose=0).fit(X_train, y_train)"
   ]
  },
  {
   "cell_type": "code",
   "execution_count": 14,
   "id": "9e37417b",
   "metadata": {
    "execution": {
     "iopub.execute_input": "2022-06-06T12:58:50.182908Z",
     "iopub.status.busy": "2022-06-06T12:58:50.182283Z",
     "iopub.status.idle": "2022-06-06T12:58:50.556805Z",
     "shell.execute_reply": "2022-06-06T12:58:50.555402Z"
    },
    "papermill": {
     "duration": 0.386708,
     "end_time": "2022-06-06T12:58:50.558973",
     "exception": false,
     "start_time": "2022-06-06T12:58:50.172265",
     "status": "completed"
    },
    "tags": []
   },
   "outputs": [
    {
     "data": {
      "text/plain": [
       "Text(0.5, 1.0, 'Scoring for different class weights')"
      ]
     },
     "execution_count": 14,
     "metadata": {},
     "output_type": "execute_result"
    },
    {
     "data": {
      "image/png": "[encoded data removed]",
      "text/plain": [
       "<Figure size 864x576 with 1 Axes>"
      ]
     },
     "metadata": {},
     "output_type": "display_data"
    }
   ],
   "source": [
    "#Ploting the score for different values of weight\n",
    "sns.set_style('whitegrid')\n",
    "plt.figure(figsize=(12,8))\n",
    "weigh_data = pd.DataFrame({ 'score': gridsearch.cv_results_['mean_test_score'], 'weight': (weights)})\n",
    "sns.lineplot(weigh_data['weight'], weigh_data['score'])\n",
    "plt.xlabel('Weight for class 0')\n",
    "plt.ylabel('Accuracy score')\n",
    "plt.xticks([round(i/10,1) for i in range(0,21,1)])\n",
    "plt.title('Scoring for different class weights', fontsize=24)"
   ]
  },
  {
   "cell_type": "code",
   "execution_count": 15,
   "id": "2720ca00",
   "metadata": {
    "execution": {
     "iopub.execute_input": "2022-06-06T12:58:50.579196Z",
     "iopub.status.busy": "2022-06-06T12:58:50.578773Z",
     "iopub.status.idle": "2022-06-06T12:58:50.591286Z",
     "shell.execute_reply": "2022-06-06T12:58:50.590265Z"
    },
    "papermill": {
     "duration": 0.025227,
     "end_time": "2022-06-06T12:58:50.593556",
     "exception": false,
     "start_time": "2022-06-06T12:58:50.568329",
     "status": "completed"
    },
    "tags": []
   },
   "outputs": [
    {
     "data": {
      "text/plain": [
       "RandomForestClassifier(class_weight={0: 1.0050505050505052,\n",
       "                                     1: 0.9949494949494948})"
      ]
     },
     "execution_count": 15,
     "metadata": {},
     "output_type": "execute_result"
    }
   ],
   "source": [
    "gridsearch.best_estimator_"
   ]
  },
  {
   "cell_type": "code",
   "execution_count": 16,
   "id": "892e38c4",
   "metadata": {
    "execution": {
     "iopub.execute_input": "2022-06-06T12:58:50.613921Z",
     "iopub.status.busy": "2022-06-06T12:58:50.613490Z",
     "iopub.status.idle": "2022-06-06T12:58:50.619683Z",
     "shell.execute_reply": "2022-06-06T12:58:50.618781Z"
    },
    "papermill": {
     "duration": 0.018924,
     "end_time": "2022-06-06T12:58:50.621931",
     "exception": false,
     "start_time": "2022-06-06T12:58:50.603007",
     "status": "completed"
    },
    "tags": []
   },
   "outputs": [
    {
     "data": {
      "text/plain": [
       "0.8443066666666666"
      ]
     },
     "execution_count": 16,
     "metadata": {},
     "output_type": "execute_result"
    }
   ],
   "source": [
    "# Best score we get :\n",
    "gridsearch.best_score_"
   ]
  },
  {
   "cell_type": "markdown",
   "id": "fedd02ab",
   "metadata": {
    "papermill": {
     "duration": 0.008738,
     "end_time": "2022-06-06T12:58:50.640017",
     "exception": false,
     "start_time": "2022-06-06T12:58:50.631279",
     "status": "completed"
    },
    "tags": []
   },
   "source": [
    "### Thanks for checking out the notebook :)"
   ]
  }
 ],
 "metadata": {
  "kernelspec": {
   "display_name": "Python 3",
   "language": "python",
   "name": "python3"
  },
  "language_info": {
   "codemirror_mode": {
    "name": "ipython",
    "version": 3
   },
   "file_extension": ".py",
   "mimetype": "text/x-python",
   "name": "python",
   "nbconvert_exporter": "python",
   "pygments_lexer": "ipython3",
   "version": "3.7.12"
  },
  "papermill": {
   "default_parameters": {},
   "duration": 11489.229014,
   "end_time": "2022-06-06T12:58:52.492848",
   "environment_variables": {},
   "exception": null,
   "input_path": "__notebook__.ipynb",
   "output_path": "__notebook__.ipynb",
   "parameters": {},
   "start_time": "2022-06-06T09:47:23.263834",
   "version": "2.3.4"
  }
 },
 "nbformat": 4,
 "nbformat_minor": 5
}
